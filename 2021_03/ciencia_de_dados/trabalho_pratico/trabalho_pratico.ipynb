{
 "cells": [
  {
   "cell_type": "markdown",
   "id": "initial-humanitarian",
   "metadata": {},
   "source": [
    "# Ciência de Dados - Trabalho Prático\n",
    "\n",
    "## Alexandre Rosseto Lemos\n",
    "### Matrícula: 2021231580\n",
    "### email: alexandrerossetolemos@gmail.com\n",
    "### PPGI (Mestrado)"
   ]
  },
  {
   "cell_type": "markdown",
   "id": "consistent-skating",
   "metadata": {
    "ExecuteTime": {
     "end_time": "2021-12-12T01:30:58.708126Z",
     "start_time": "2021-12-12T01:30:58.705125Z"
    }
   },
   "source": [
    "# Objetivo\n",
    "\n",
    "Utilizar aprendizado não supervisionado (neste caso, agrupamento) para investigar se há relação entre a descrição de um livro e o gênero literário a que pertence.\n",
    "\n",
    "De forma mais específica, agrupar os livros de acordo suas descrições e, após isso, verificar se os livros pertencentes ao mesmo grupo possuem o mesmo gênero ou se as distribuições de gêneros de grupos diferentes são diferentes."
   ]
  },
  {
   "cell_type": "markdown",
   "id": "ideal-training",
   "metadata": {},
   "source": [
    "# Inicialização"
   ]
  },
  {
   "cell_type": "markdown",
   "id": "baking-worry",
   "metadata": {},
   "source": [
    "## Bibliotecas"
   ]
  },
  {
   "cell_type": "code",
   "execution_count": 1,
   "id": "seeing-pizza",
   "metadata": {
    "ExecuteTime": {
     "end_time": "2022-02-08T01:21:36.711891Z",
     "start_time": "2022-02-08T01:21:33.857713Z"
    }
   },
   "outputs": [],
   "source": [
    "import pandas as pd\n",
    "import numpy as np\n",
    "import re\n",
    "import nltk\n",
    "from nltk.tokenize import word_tokenize\n",
    "from nltk.corpus import stopwords\n",
    "from nltk.stem import WordNetLemmatizer\n",
    "from sklearn.feature_extraction.text import CountVectorizer, TfidfTransformer, TfidfVectorizer\n",
    "from sklearn.decomposition import TruncatedSVD\n",
    "import matplotlib.pyplot as plt\n",
    "from sklearn.cluster import KMeans, AgglomerativeClustering, SpectralClustering\n",
    "import warnings\n",
    "warnings.filterwarnings(\"ignore\")\n",
    "import seaborn as sns\n",
    "from sklearn.metrics import accuracy_score"
   ]
  },
  {
   "cell_type": "markdown",
   "id": "textile-exploration",
   "metadata": {},
   "source": [
    "## Funções"
   ]
  },
  {
   "cell_type": "markdown",
   "id": "announced-elder",
   "metadata": {},
   "source": [
    "### pre_processamento"
   ]
  },
  {
   "cell_type": "code",
   "execution_count": 2,
   "id": "brilliant-closing",
   "metadata": {
    "ExecuteTime": {
     "end_time": "2022-02-08T01:21:36.727891Z",
     "start_time": "2022-02-08T01:21:36.713891Z"
    }
   },
   "outputs": [],
   "source": [
    "def pre_processamento(text):\n",
    "    '''\n",
    "    Info:\n",
    "        Funcao que realiza a normalizacao dos dados (textos)\n",
    "    ----------\n",
    "    Input:\n",
    "        text: Texto a ser normalizado (type: string)\n",
    "    ----------\n",
    "    Output\n",
    "        tokens: Texto apos passar pelos processos de normalizacao\n",
    "    '''\n",
    "    # Transformando letras maiusculas em minusculas e removendo pontuacao\n",
    "    text = re.sub(r\"[^a-zA-Z0-9]\", \" \", text.lower())\n",
    "    \n",
    "    # Tokenizando o texto\n",
    "    tokens = word_tokenize(text)\n",
    "    \n",
    "    # Obtendo as stop words e gerando o modelo para aplicar lematizacao\n",
    "    stop_words = stopwords.words(\"english\")\n",
    "    lemmatizer = WordNetLemmatizer()\n",
    "    \n",
    "    # Aplicando lematizacao e removendo stop words\n",
    "    tokens = [lemmatizer.lemmatize(word) for word in tokens if word not in stop_words]\n",
    "    \n",
    "    return tokens"
   ]
  },
  {
   "cell_type": "markdown",
   "id": "developmental-breach",
   "metadata": {},
   "source": [
    "### analise_cluster"
   ]
  },
  {
   "cell_type": "code",
   "execution_count": 3,
   "id": "desperate-profession",
   "metadata": {
    "ExecuteTime": {
     "end_time": "2022-02-08T01:21:36.759892Z",
     "start_time": "2022-02-08T01:21:36.730892Z"
    }
   },
   "outputs": [],
   "source": [
    "def analise_cluster(df, genero):\n",
    "    '''\n",
    "    Info:\n",
    "        Funcao que filtra os dados por genero e gera um grafico com a quantidade de amostras\n",
    "        de cada cluster que pertencem ao genero analisado.\n",
    "    ----------\n",
    "    Input:\n",
    "        df: Conjunto de dados (type: pandas DataFrame)\n",
    "        genero: Genero analisado (type: string)\n",
    "    ----------\n",
    "    Output:\n",
    "        cl_res: Dicionario com os dois maiores clusters e a quantidade de amostras em cada um deles.\n",
    "    '''\n",
    "    # Obtendo os dados apenas do cluster desejado\n",
    "    df_cl = df[df['genero'] == genero]\n",
    "    \n",
    "    # Gerando o grafico\n",
    "    fig, ax = plt.subplots(figsize = [10,5])\n",
    "    ax = sns.countplot(data = df_cl, x = 'cluster',\n",
    "                      order = [0, 1, 2, 3, 4, 5, 6, 7])\n",
    "    \n",
    "    # Definindo titulo\n",
    "    ax.set_title(genero)\n",
    "    \n",
    "    # Retornando os dois clusters mais comuns\n",
    "    top_cluster_qtd = df_cl['cluster'].value_counts().iloc[0]\n",
    "    top_cluster = df_cl['cluster'].value_counts().index[0]\n",
    "    \n",
    "    seg_cluster_qtd = df_cl['cluster'].value_counts().iloc[1]\n",
    "    seg_cluster = df_cl['cluster'].value_counts().index[1]\n",
    "    \n",
    "    \n",
    "    cl_res = {'Genero': genero, \n",
    "              'Maior cluster': ({'Cluster': top_cluster, 'Quantidade': top_cluster_qtd}), \n",
    "              'Segundo maior cluster': ({'Cluster': seg_cluster, 'Quantidade': seg_cluster_qtd})}\n",
    "    \n",
    "    return cl_res"
   ]
  },
  {
   "cell_type": "markdown",
   "id": "victorian-arkansas",
   "metadata": {},
   "source": [
    "### acc_genero"
   ]
  },
  {
   "cell_type": "code",
   "execution_count": 4,
   "id": "supported-freeware",
   "metadata": {
    "ExecuteTime": {
     "end_time": "2022-02-08T01:21:36.822893Z",
     "start_time": "2022-02-08T01:21:36.761893Z"
    }
   },
   "outputs": [],
   "source": [
    "def acc_genero(df, nome_modelo):\n",
    "    '''\n",
    "    Info:\n",
    "        Funcao que calcula a acuracia de um modelo para todos os generos separadamente.\n",
    "    ----------\n",
    "    Input:\n",
    "        df: Conjunto de dados analisado (type: pandas DataFrame)\n",
    "        nome_modelo: Nome do modelo analisado (type: string)\n",
    "    ----------\n",
    "    Output:\n",
    "        df_gen_acc: Dataframe com a acuracia calculada para cada genero\n",
    "    '''\n",
    "    # Lista de generos\n",
    "    genero_list = ['poetry', 'romance', 'children', 'comics_graphic', \n",
    "                   'fantasy_paranormal','history_biography', 'mystery_thriller_crime', \n",
    "                   'young_adult']\n",
    "    \n",
    "    dict_kmeans_svd_res = {}\n",
    "    for genero in genero_list:\n",
    "        # Obtendo apenas os dados do genero\n",
    "        df_gen = df[df['genero'] == genero]\n",
    "        \n",
    "        # Calculando as acuracias\n",
    "        acc = accuracy_score(df_gen['encoded_genre'], df_gen['cluster'])\n",
    "\n",
    "        # Salvando em um dicionario\n",
    "        dict_kmeans_svd_res[genero] = acc\n",
    "    \n",
    "    # Criando o dataframe\n",
    "    df_gen_acc = pd.DataFrame(data = dict_kmeans_svd_res, index = [nome_modelo])\n",
    "\n",
    "    return df_gen_acc"
   ]
  },
  {
   "cell_type": "markdown",
   "id": "stylish-frost",
   "metadata": {},
   "source": [
    "# Carregando os dados\n",
    "\n",
    "Uma análise prévia foi feita para descobrir quantas amostras existem para cada dataset\n",
    "\n",
    "- Romance:     335449 amostras\n",
    "- Poetry:      36514 amostras\n",
    "- Children:    124082 amostras\n",
    "- Comics:      89411 amostras\n",
    "- Fantasy:     258585 amostras\n",
    "- Biography:   302935 amostras\n",
    "- Mysterey:    219235 amostras\n",
    "- Young adult: 93398 amostras"
   ]
  },
  {
   "cell_type": "code",
   "execution_count": 5,
   "id": "classified-appearance",
   "metadata": {
    "ExecuteTime": {
     "end_time": "2022-02-08T01:25:36.683600Z",
     "start_time": "2022-02-08T01:21:36.824891Z"
    }
   },
   "outputs": [],
   "source": [
    "# Lista com os datasets a serem lidos\n",
    "datasets = ['goodreads_books_romance.json', \n",
    "            'goodreads_books_poetry.json', 'goodreads_books_children.json',\n",
    "            'goodreads_books_comics_graphic.json', 'goodreads_books_fantasy_paranormal.json',\n",
    "            'goodreads_books_history_biography.json', 'goodreads_books_mystery_thriller_crime.json',\n",
    "            'goodreads_books_young_adult.json'\n",
    "           ]\n",
    "\n",
    "# Lista com as colunas necessarias\n",
    "cols_used = ['book_id', 'language_code', 'description']\n",
    "\n",
    "df = pd.DataFrame()\n",
    "for dataset in datasets:\n",
    "    \n",
    "    # Lendo os dados\n",
    "    df_original = pd.read_json(dataset, lines = True)\n",
    "    \n",
    "    # Utilizando apenas as colunas necessarias\n",
    "    df_original = df_original[cols_used]\n",
    "    \n",
    "    # Selecionando apenas registros onde language_code = en, eng, en-GB, en-US ou en-CA\n",
    "    df_original = df_original[(df_original['language_code'] == 'en') | (df_original['language_code'] == 'eng')|  \n",
    "                   (df_original['language_code'] == 'en-GB') | (df_original['language_code'] == 'en-US') | \n",
    "                   (df_original['language_code'] == 'en-CA')]\n",
    "    \n",
    "    # Existem amostras onde o campo description está vazio, essas amostras serao removidas\n",
    "    df_original = df_original[df_original['description'] != '']\n",
    "    \n",
    "    # Selecionando aleatoriamente 1000 amostras do conjunto de dados\n",
    "    df_sample = df_original.sample(n = 1000, random_state = 0)\n",
    "    \n",
    "    # Removendo da memoria o dataset original\n",
    "    del df_original\n",
    "      \n",
    "    # Obtendo e salvando o genero do livro\n",
    "    genero = dataset.split('_books_')[1].split('.json')[0]\n",
    "    df_sample['genero'] = genero\n",
    "\n",
    "    # Concatenando os dados\n",
    "    df = pd.concat([df, df_sample])\n",
    "    \n",
    "    # Removendo da memoria o dataset amostrado\n",
    "    del df_sample\n",
    "    \n",
    "# Reorganizando aleatoriamente os dados\n",
    "df = df.sample(frac = 1, random_state = 0)"
   ]
  },
  {
   "cell_type": "code",
   "execution_count": 6,
   "id": "involved-noise",
   "metadata": {
    "ExecuteTime": {
     "end_time": "2022-02-08T01:25:36.715408Z",
     "start_time": "2022-02-08T01:25:36.699408Z"
    }
   },
   "outputs": [
    {
     "name": "stdout",
     "output_type": "stream",
     "text": [
      "Shape do dataframe concatenado: (8000, 4)\n"
     ]
    }
   ],
   "source": [
    "print(f'Shape do dataframe concatenado: {df.shape}')"
   ]
  },
  {
   "cell_type": "markdown",
   "id": "indoor-bracket",
   "metadata": {},
   "source": [
    "# Pré-processamento\n",
    "\n",
    "A primeira etapa de pré-processamento consiste em:\n",
    "\n",
    "- Transformar letras maíusculas em minúsculas;\n",
    "- Remover pontuação;\n",
    "- Remover stop words;\n",
    "- Tokenizar os textos;\n",
    "- Aplicar lematização.\n",
    "\n",
    "As bibliotecas scikit-learn e nltk serão utilizadas para realizar esses procedimentos."
   ]
  },
  {
   "cell_type": "code",
   "execution_count": 7,
   "id": "elder-engagement",
   "metadata": {
    "ExecuteTime": {
     "end_time": "2022-02-08T01:25:46.965159Z",
     "start_time": "2022-02-08T01:25:36.717255Z"
    }
   },
   "outputs": [],
   "source": [
    "# Inicializando o objeto CountVectorizer com as funcoes de pre processamento criadas\n",
    "vect = CountVectorizer(tokenizer = pre_processamento)\n",
    "\n",
    "# Fazendo a contagem da frequencia das palavras\n",
    "word_count = vect.fit_transform(df['description'])"
   ]
  },
  {
   "cell_type": "markdown",
   "id": "underlying-transaction",
   "metadata": {},
   "source": [
    "## Matriz TF-IDF"
   ]
  },
  {
   "cell_type": "code",
   "execution_count": 8,
   "id": "prostate-boulder",
   "metadata": {
    "ExecuteTime": {
     "end_time": "2022-02-08T01:25:47.515158Z",
     "start_time": "2022-02-08T01:25:46.966159Z"
    },
    "scrolled": true
   },
   "outputs": [
    {
     "name": "stdout",
     "output_type": "stream",
     "text": [
      "Shape da matriz TF-IDF: (8000, 43551)\n",
      "[[0. 0. 0. ... 0. 0. 0.]\n",
      " [0. 0. 0. ... 0. 0. 0.]\n",
      " [0. 0. 0. ... 0. 0. 0.]\n",
      " ...\n",
      " [0. 0. 0. ... 0. 0. 0.]\n",
      " [0. 0. 0. ... 0. 0. 0.]\n",
      " [0. 0. 0. ... 0. 0. 0.]]\n"
     ]
    }
   ],
   "source": [
    "# Inicializando o objeto tf-idf vectorizer\n",
    "transformer = TfidfTransformer()\n",
    "\n",
    "# Utilizando a contagem das palavras do vetor de contagem para treinar o objeto TfidTransformer\n",
    "tfidf = transformer.fit_transform(word_count)\n",
    "\n",
    "print(\"Shape da matriz TF-IDF:\", tfidf.shape)\n",
    "print(tfidf.toarray())"
   ]
  },
  {
   "cell_type": "markdown",
   "id": "ordinary-negotiation",
   "metadata": {},
   "source": [
    "# Clusterização com Redução de Dimensionalidade\n",
    "\n",
    "Podemos ver que a matriz TF-IDF é muito extensa, possui muitas colunas (43551) e é uma matriz esparsa, onde existe uma grande quantidade de células com valor igual à 0 (zero). \n",
    "\n",
    "Para tentar diminuir essa alta dimensionalidade, e se tratando de uma matriz esparsa, será utilizado o algoritmo SVD Truncado. A biblioteca scikit-learn possui esse algoritmo e ele será utilizado na etapa a seguir.\n",
    "\n",
    "Para definir a melhor quantidade de componentes a ser utilizado, serão gerados alguns gráficos que mostram quanto da variância está sendo explicada pela quantidade de variáveis."
   ]
  },
  {
   "cell_type": "markdown",
   "id": "warming-greek",
   "metadata": {},
   "source": [
    "## Aplicando Truncated SVD para reduzir a dimensionalidade"
   ]
  },
  {
   "cell_type": "code",
   "execution_count": 9,
   "id": "challenging-brave",
   "metadata": {
    "ExecuteTime": {
     "end_time": "2022-02-08T01:26:13.737958Z",
     "start_time": "2022-02-08T01:25:47.519157Z"
    },
    "scrolled": true
   },
   "outputs": [
    {
     "data": {
      "image/png": "[encoded data removed]",
      "text/plain": [
       "<Figure size 504x360 with 1 Axes>"
      ]
     },
     "metadata": {
      "needs_background": "light"
     },
     "output_type": "display_data"
    }
   ],
   "source": [
    "# Utilizando 1000 variaveis\n",
    "svd_t = TruncatedSVD(n_components = 1000)\n",
    "svd_t.fit(tfidf)\n",
    "\n",
    "fig = plt.figure(figsize=(7, 5))  \n",
    "plt.plot([i for i in range(1, svd_t.n_components + 1)], np.cumsum(svd_t.explained_variance_ratio_))\n",
    "plt.xlabel(r'$k$ - Número de componentes')\n",
    "plt.ylabel(r'$f(k)$ - Fração cumulativa da variância explicada');    "
   ]
  },
  {
   "cell_type": "code",
   "execution_count": 10,
   "id": "declared-planet",
   "metadata": {
    "ExecuteTime": {
     "end_time": "2022-02-08T01:32:02.236188Z",
     "start_time": "2022-02-08T01:26:13.739959Z"
    }
   },
   "outputs": [
    {
     "data": {
      "image/png": "[encoded data removed]",
      "text/plain": [
       "<Figure size 504x360 with 1 Axes>"
      ]
     },
     "metadata": {
      "needs_background": "light"
     },
     "output_type": "display_data"
    }
   ],
   "source": [
    "# Utilizando 5000 variaveis\n",
    "svd_t = TruncatedSVD(n_components = 5000)\n",
    "svd_t.fit(tfidf)\n",
    "\n",
    "fig = plt.figure(figsize=(7, 5))  \n",
    "plt.plot([i for i in range(1, svd_t.n_components + 1)], np.cumsum(svd_t.explained_variance_ratio_))\n",
    "plt.xlabel(r'$k$ - Número de componentes')\n",
    "plt.ylabel(r'$f(k)$ - Fração cumulativa da variância explicada')\n",
    "\n",
    "# Plotando uma linha onde as variaveis explicam 90% da variancia\n",
    "plt.axhline(y = 0.9, color = 'g', linestyle='-');"
   ]
  },
  {
   "cell_type": "code",
   "execution_count": 11,
   "id": "white-typing",
   "metadata": {
    "ExecuteTime": {
     "end_time": "2022-02-08T01:44:29.402003Z",
     "start_time": "2022-02-08T01:32:02.238190Z"
    }
   },
   "outputs": [
    {
     "data": {
      "image/png": "[encoded data removed]",
      "text/plain": [
       "<Figure size 504x360 with 1 Axes>"
      ]
     },
     "metadata": {
      "needs_background": "light"
     },
     "output_type": "display_data"
    }
   ],
   "source": [
    "# Utilizando 8000 variaveis\n",
    "svd_t = TruncatedSVD(n_components = 8000)\n",
    "svd_t.fit(tfidf)\n",
    "\n",
    "fig = plt.figure(figsize=(7, 5))  \n",
    "plt.plot([i for i in range(1, svd_t.n_components + 1)], np.cumsum(svd_t.explained_variance_ratio_))\n",
    "plt.xlabel(r'$k$ - Número de componentes')\n",
    "plt.ylabel(r'$f(k)$ - Fração cumulativa da variância explicada')  \n",
    "\n",
    "# Plotando uma linha onde as variaveis explicam 95% da variancia\n",
    "plt.axhline(y = 0.95, color = 'g', linestyle='-');"
   ]
  },
  {
   "cell_type": "markdown",
   "id": "minimal-conclusion",
   "metadata": {},
   "source": [
    "Para esse trabalho, serão utilizadas 6500 componentes pois, a partir dos gráficos, foi obseravdo que elas representam aproximadamente 95% da variância dos dados e representam menos de 15% do total de colunas do conjunto de dados original, significando uma diminuição considerável no número de variáveis."
   ]
  },
  {
   "cell_type": "code",
   "execution_count": 12,
   "id": "inclusive-kingdom",
   "metadata": {
    "ExecuteTime": {
     "end_time": "2022-02-08T01:53:24.411732Z",
     "start_time": "2022-02-08T01:44:29.404003Z"
    }
   },
   "outputs": [
    {
     "data": {
      "text/html": [
       "<div>\n",
       "<style scoped>\n",
       "    .dataframe tbody tr th:only-of-type {\n",
       "        vertical-align: middle;\n",
       "    }\n",
       "\n",
       "    .dataframe tbody tr th {\n",
       "        vertical-align: top;\n",
       "    }\n",
       "\n",
       "    .dataframe thead th {\n",
       "        text-align: right;\n",
       "    }\n",
       "</style>\n",
       "<table border=\"1\" class=\"dataframe\">\n",
       "  <thead>\n",
       "    <tr style=\"text-align: right;\">\n",
       "      <th></th>\n",
       "      <th>0</th>\n",
       "      <th>1</th>\n",
       "      <th>2</th>\n",
       "      <th>3</th>\n",
       "      <th>4</th>\n",
       "      <th>5</th>\n",
       "      <th>6</th>\n",
       "      <th>7</th>\n",
       "      <th>8</th>\n",
       "      <th>9</th>\n",
       "      <th>...</th>\n",
       "      <th>6490</th>\n",
       "      <th>6491</th>\n",
       "      <th>6492</th>\n",
       "      <th>6493</th>\n",
       "      <th>6494</th>\n",
       "      <th>6495</th>\n",
       "      <th>6496</th>\n",
       "      <th>6497</th>\n",
       "      <th>6498</th>\n",
       "      <th>6499</th>\n",
       "    </tr>\n",
       "  </thead>\n",
       "  <tbody>\n",
       "    <tr>\n",
       "      <th>0</th>\n",
       "      <td>0.101791</td>\n",
       "      <td>-0.004616</td>\n",
       "      <td>-0.028533</td>\n",
       "      <td>0.012799</td>\n",
       "      <td>-0.047208</td>\n",
       "      <td>-0.019753</td>\n",
       "      <td>-0.007271</td>\n",
       "      <td>-0.043673</td>\n",
       "      <td>0.008905</td>\n",
       "      <td>-0.010972</td>\n",
       "      <td>...</td>\n",
       "      <td>-0.004602</td>\n",
       "      <td>0.003560</td>\n",
       "      <td>0.000977</td>\n",
       "      <td>0.007565</td>\n",
       "      <td>-0.003434</td>\n",
       "      <td>0.001978</td>\n",
       "      <td>-0.004110</td>\n",
       "      <td>-0.009656</td>\n",
       "      <td>0.007282</td>\n",
       "      <td>0.010882</td>\n",
       "    </tr>\n",
       "    <tr>\n",
       "      <th>1</th>\n",
       "      <td>0.142694</td>\n",
       "      <td>0.131385</td>\n",
       "      <td>-0.066722</td>\n",
       "      <td>-0.019162</td>\n",
       "      <td>-0.013184</td>\n",
       "      <td>0.052643</td>\n",
       "      <td>-0.046612</td>\n",
       "      <td>-0.036839</td>\n",
       "      <td>0.008108</td>\n",
       "      <td>0.016782</td>\n",
       "      <td>...</td>\n",
       "      <td>0.001969</td>\n",
       "      <td>-0.010259</td>\n",
       "      <td>-0.007265</td>\n",
       "      <td>0.005040</td>\n",
       "      <td>0.008311</td>\n",
       "      <td>-0.004500</td>\n",
       "      <td>0.001684</td>\n",
       "      <td>-0.007138</td>\n",
       "      <td>0.008117</td>\n",
       "      <td>-0.007748</td>\n",
       "    </tr>\n",
       "    <tr>\n",
       "      <th>2</th>\n",
       "      <td>0.114991</td>\n",
       "      <td>0.003636</td>\n",
       "      <td>-0.034808</td>\n",
       "      <td>-0.027871</td>\n",
       "      <td>-0.028586</td>\n",
       "      <td>0.035880</td>\n",
       "      <td>-0.017834</td>\n",
       "      <td>0.018240</td>\n",
       "      <td>0.007015</td>\n",
       "      <td>0.019286</td>\n",
       "      <td>...</td>\n",
       "      <td>-0.008220</td>\n",
       "      <td>0.004955</td>\n",
       "      <td>-0.000904</td>\n",
       "      <td>0.001227</td>\n",
       "      <td>-0.000310</td>\n",
       "      <td>-0.004816</td>\n",
       "      <td>-0.002313</td>\n",
       "      <td>0.002232</td>\n",
       "      <td>-0.000600</td>\n",
       "      <td>-0.006457</td>\n",
       "    </tr>\n",
       "    <tr>\n",
       "      <th>3</th>\n",
       "      <td>0.191487</td>\n",
       "      <td>-0.018750</td>\n",
       "      <td>0.029765</td>\n",
       "      <td>0.050222</td>\n",
       "      <td>-0.015969</td>\n",
       "      <td>-0.004534</td>\n",
       "      <td>0.042560</td>\n",
       "      <td>-0.024726</td>\n",
       "      <td>-0.012375</td>\n",
       "      <td>0.017272</td>\n",
       "      <td>...</td>\n",
       "      <td>-0.007634</td>\n",
       "      <td>0.008533</td>\n",
       "      <td>0.000219</td>\n",
       "      <td>-0.007715</td>\n",
       "      <td>0.004826</td>\n",
       "      <td>-0.012385</td>\n",
       "      <td>0.000143</td>\n",
       "      <td>0.002249</td>\n",
       "      <td>0.001269</td>\n",
       "      <td>0.004917</td>\n",
       "    </tr>\n",
       "    <tr>\n",
       "      <th>4</th>\n",
       "      <td>0.143723</td>\n",
       "      <td>-0.056301</td>\n",
       "      <td>-0.000923</td>\n",
       "      <td>0.010401</td>\n",
       "      <td>-0.137245</td>\n",
       "      <td>0.001534</td>\n",
       "      <td>-0.005286</td>\n",
       "      <td>-0.006728</td>\n",
       "      <td>0.014643</td>\n",
       "      <td>0.062961</td>\n",
       "      <td>...</td>\n",
       "      <td>0.010341</td>\n",
       "      <td>-0.004822</td>\n",
       "      <td>0.004664</td>\n",
       "      <td>-0.003625</td>\n",
       "      <td>-0.001653</td>\n",
       "      <td>-0.001168</td>\n",
       "      <td>-0.005710</td>\n",
       "      <td>0.002161</td>\n",
       "      <td>-0.006198</td>\n",
       "      <td>-0.007053</td>\n",
       "    </tr>\n",
       "  </tbody>\n",
       "</table>\n",
       "<p>5 rows × 6500 columns</p>\n",
       "</div>"
      ],
      "text/plain": [
       "       0         1         2         3         4         5         6     \\\n",
       "0  0.101791 -0.004616 -0.028533  0.012799 -0.047208 -0.019753 -0.007271   \n",
       "1  0.142694  0.131385 -0.066722 -0.019162 -0.013184  0.052643 -0.046612   \n",
       "2  0.114991  0.003636 -0.034808 -0.027871 -0.028586  0.035880 -0.017834   \n",
       "3  0.191487 -0.018750  0.029765  0.050222 -0.015969 -0.004534  0.042560   \n",
       "4  0.143723 -0.056301 -0.000923  0.010401 -0.137245  0.001534 -0.005286   \n",
       "\n",
       "       7         8         9     ...      6490      6491      6492      6493  \\\n",
       "0 -0.043673  0.008905 -0.010972  ... -0.004602  0.003560  0.000977  0.007565   \n",
       "1 -0.036839  0.008108  0.016782  ...  0.001969 -0.010259 -0.007265  0.005040   \n",
       "2  0.018240  0.007015  0.019286  ... -0.008220  0.004955 -0.000904  0.001227   \n",
       "3 -0.024726 -0.012375  0.017272  ... -0.007634  0.008533  0.000219 -0.007715   \n",
       "4 -0.006728  0.014643  0.062961  ...  0.010341 -0.004822  0.004664 -0.003625   \n",
       "\n",
       "       6494      6495      6496      6497      6498      6499  \n",
       "0 -0.003434  0.001978 -0.004110 -0.009656  0.007282  0.010882  \n",
       "1  0.008311 -0.004500  0.001684 -0.007138  0.008117 -0.007748  \n",
       "2 -0.000310 -0.004816 -0.002313  0.002232 -0.000600 -0.006457  \n",
       "3  0.004826 -0.012385  0.000143  0.002249  0.001269  0.004917  \n",
       "4 -0.001653 -0.001168 -0.005710  0.002161 -0.006198 -0.007053  \n",
       "\n",
       "[5 rows x 6500 columns]"
      ]
     },
     "execution_count": 12,
     "metadata": {},
     "output_type": "execute_result"
    }
   ],
   "source": [
    "# Utilizando 6500 variaveis\n",
    "svd_t = TruncatedSVD(n_components = 6500, random_state = 0)\n",
    "\n",
    "# Transformando os dados e salvando em um dataframe\n",
    "data = pd.DataFrame(svd_t.fit_transform(tfidf))\n",
    "\n",
    "data.head()"
   ]
  },
  {
   "cell_type": "markdown",
   "id": "continental-samuel",
   "metadata": {},
   "source": [
    "Com o conjunto de dados reduzido, serão aplicadas três técnicas de agrupamento, sendo elas:\n",
    "- K-Means\n",
    "- Agrupamento Hierárquico\n",
    "- Agrupamento Espectral\n",
    "\n",
    "\n",
    "Como existem 8 gêneros literários diferentes, os algoritmos irão tentar agrupar os dados em 8 conjuntos diferentes."
   ]
  },
  {
   "cell_type": "code",
   "execution_count": 13,
   "id": "excellent-marshall",
   "metadata": {
    "ExecuteTime": {
     "end_time": "2022-02-08T01:53:24.427729Z",
     "start_time": "2022-02-08T01:53:24.412730Z"
    }
   },
   "outputs": [],
   "source": [
    "# Lista de generos\n",
    "genero_list = ['poetry', \n",
    "               'romance', 'children', 'comics_graphic', 'fantasy_paranormal',\n",
    "               'history_biography', 'mystery_thriller_crime', 'young_adult'\n",
    "              ]"
   ]
  },
  {
   "cell_type": "markdown",
   "id": "monetary-course",
   "metadata": {},
   "source": [
    "## Utilizando K-Means"
   ]
  },
  {
   "cell_type": "code",
   "execution_count": 14,
   "id": "billion-liverpool",
   "metadata": {
    "ExecuteTime": {
     "end_time": "2022-02-08T01:53:50.136795Z",
     "start_time": "2022-02-08T01:53:24.429732Z"
    }
   },
   "outputs": [
    {
     "data": {
      "text/html": [
       "<div>\n",
       "<style scoped>\n",
       "    .dataframe tbody tr th:only-of-type {\n",
       "        vertical-align: middle;\n",
       "    }\n",
       "\n",
       "    .dataframe tbody tr th {\n",
       "        vertical-align: top;\n",
       "    }\n",
       "\n",
       "    .dataframe thead th {\n",
       "        text-align: right;\n",
       "    }\n",
       "</style>\n",
       "<table border=\"1\" class=\"dataframe\">\n",
       "  <thead>\n",
       "    <tr style=\"text-align: right;\">\n",
       "      <th></th>\n",
       "      <th>cluster</th>\n",
       "      <th>genero</th>\n",
       "    </tr>\n",
       "  </thead>\n",
       "  <tbody>\n",
       "    <tr>\n",
       "      <th>59612</th>\n",
       "      <td>0</td>\n",
       "      <td>comics_graphic</td>\n",
       "    </tr>\n",
       "    <tr>\n",
       "      <th>25671</th>\n",
       "      <td>1</td>\n",
       "      <td>poetry</td>\n",
       "    </tr>\n",
       "    <tr>\n",
       "      <th>168863</th>\n",
       "      <td>0</td>\n",
       "      <td>mystery_thriller_crime</td>\n",
       "    </tr>\n",
       "    <tr>\n",
       "      <th>274184</th>\n",
       "      <td>4</td>\n",
       "      <td>romance</td>\n",
       "    </tr>\n",
       "    <tr>\n",
       "      <th>73873</th>\n",
       "      <td>2</td>\n",
       "      <td>comics_graphic</td>\n",
       "    </tr>\n",
       "  </tbody>\n",
       "</table>\n",
       "</div>"
      ],
      "text/plain": [
       "        cluster                  genero\n",
       "59612         0          comics_graphic\n",
       "25671         1                  poetry\n",
       "168863        0  mystery_thriller_crime\n",
       "274184        4                 romance\n",
       "73873         2          comics_graphic"
      ]
     },
     "execution_count": 14,
     "metadata": {},
     "output_type": "execute_result"
    }
   ],
   "source": [
    "# Inicializando o modelo\n",
    "kmeans_svd = KMeans(n_clusters = 8, random_state = 0)\n",
    "\n",
    "# Treinando o modelo\n",
    "kmeans_svd.fit(data)\n",
    "\n",
    "df_kmeans_svd = pd.DataFrame(index = df.index)\n",
    "\n",
    "# Obtendo os resultados do kmeans\n",
    "df_kmeans_svd['cluster'] = kmeans_svd.labels_\n",
    "\n",
    "# # Adicionando o genero literario ao dataframe\n",
    "df_kmeans_svd['genero'] = df['genero'].values\n",
    "\n",
    "df_kmeans_svd.head()"
   ]
  },
  {
   "cell_type": "code",
   "execution_count": 15,
   "id": "recovered-character",
   "metadata": {
    "ExecuteTime": {
     "end_time": "2022-02-08T01:53:51.071795Z",
     "start_time": "2022-02-08T01:53:50.137796Z"
    },
    "scrolled": true
   },
   "outputs": [
    {
     "data": {
      "image/png": "[encoded data removed]",
      "text/plain": [
       "<Figure size 720x360 with 1 Axes>"
      ]
     },
     "metadata": {
      "needs_background": "light"
     },
     "output_type": "display_data"
    },
    {
     "data": {
      "image/png": "[encoded data removed]",
      "text/plain": [
       "<Figure size 720x360 with 1 Axes>"
      ]
     },
     "metadata": {
      "needs_background": "light"
     },
     "output_type": "display_data"
    },
    {
     "data": {
      "image/png": "[encoded data removed]",
      "text/plain": [
       "<Figure size 720x360 with 1 Axes>"
      ]
     },
     "metadata": {
      "needs_background": "light"
     },
     "output_type": "display_data"
    },
    {
     "data": {
      "image/png": "[encoded data removed]",
      "text/plain": [
       "<Figure size 720x360 with 1 Axes>"
      ]
     },
     "metadata": {
      "needs_background": "light"
     },
     "output_type": "display_data"
    },
    {
     "data": {
      "image/png": "[encoded data removed]",
      "text/plain": [
       "<Figure size 720x360 with 1 Axes>"
      ]
     },
     "metadata": {
      "needs_background": "light"
     },
     "output_type": "display_data"
    },
    {
     "data": {
      "image/png": "[encoded data removed]",
      "text/plain": [
       "<Figure size 720x360 with 1 Axes>"
      ]
     },
     "metadata": {
      "needs_background": "light"
     },
     "output_type": "display_data"
    },
    {
     "data": {
      "image/png": "[encoded data removed]",
      "text/plain": [
       "<Figure size 720x360 with 1 Axes>"
      ]
     },
     "metadata": {
      "needs_background": "light"
     },
     "output_type": "display_data"
    },
    {
     "data": {
      "image/png": "[encoded data removed]",
      "text/plain": [
       "<Figure size 720x360 with 1 Axes>"
      ]
     },
     "metadata": {
      "needs_background": "light"
     },
     "output_type": "display_data"
    }
   ],
   "source": [
    "# Gerando os dados e graficos para cada genero\n",
    "res_list = []\n",
    "for genero in genero_list:\n",
    "    res_list.append(analise_cluster(df_kmeans_svd, genero))"
   ]
  },
  {
   "cell_type": "markdown",
   "id": "ruled-holocaust",
   "metadata": {},
   "source": [
    "### Análise\n",
    "\n",
    "Podemos ver que nenhum gênero possui apenas amostras pertecentes a um único cluster. Isso já era esperado visto que para isso ocorrer, as amostras desse gênero deveriam possuir informações muito exclusivas, portanto, palavras muito exclusivas.\n",
    "\n",
    "Para avaliar quão bem o modelo conseguiu categorizar as amostras, é necessário determinar qual o gênero representado por cada cluster.\n",
    "\n",
    "**Determinando qual gênero cada cluster representa**\n",
    "\n",
    "O cluster com maior número de amostras (dentro de um gênero) será considerado o cluster que representa as amostras daquele gênero.\n",
    "\n",
    "Caso um mesmo cluster seja o maior em dois gêneros (gênero 1 e gênero 2), ele irá representar o gênero  cuja quantidade de amostras pertencentes ao cluster for superior (gênero 1). O outro gênero (gênero 2) será representado pelo segundo maior cluster pertencente a ele."
   ]
  },
  {
   "cell_type": "markdown",
   "id": "guilty-seattle",
   "metadata": {},
   "source": [
    "Assim, temos que:\n",
    "\n",
    "- Cluster 0 -> history_biography\n",
    "- Cluster 1 -> poetry\n",
    "- Cluster 2 -> mystery_thriller_crime\n",
    "- Cluster 3 -> children\n",
    "- Cluster 4 -> romance\n",
    "- Cluster 5 -> fantasy_paranormal\n",
    "- Cluster 6 -> comics_graphic\n",
    "- Cluster 7 -> young_adult\n",
    "\n",
    "Com essa definição, podemos calcular a performance do modelo utilizando como métrica a acurácia."
   ]
  },
  {
   "cell_type": "code",
   "execution_count": 16,
   "id": "marked-genome",
   "metadata": {
    "ExecuteTime": {
     "end_time": "2022-02-08T01:53:51.087795Z",
     "start_time": "2022-02-08T01:53:51.073795Z"
    }
   },
   "outputs": [
    {
     "name": "stdout",
     "output_type": "stream",
     "text": [
      "Acurácia K-Means: 39.425%\n"
     ]
    }
   ],
   "source": [
    "# Criando uma nova coluna com os generos codificados\n",
    "df_kmeans_svd['encoded_genre'] = df_kmeans_svd['genero'].map({'history_biography': 0, 'poetry': 1, 'mystery_thriller_crime': 2, 'children': 3,\n",
    "                         'romance': 4, 'fantasy_paranormal': 5, 'comics_graphic': 6, 'young_adult': 7}).values\n",
    "\n",
    "# Calculando a acuracia\n",
    "acc_score_kmeans_svd = accuracy_score(df_kmeans_svd['encoded_genre'], df_kmeans_svd['cluster'])\n",
    "print('Acurácia K-Means: {:.3f}%'.format(acc_score_kmeans_svd * 100))"
   ]
  },
  {
   "cell_type": "markdown",
   "id": "earned-property",
   "metadata": {},
   "source": [
    "## Utilizando Agrupamento Hierárquico"
   ]
  },
  {
   "cell_type": "code",
   "execution_count": 17,
   "id": "activated-burke",
   "metadata": {
    "ExecuteTime": {
     "end_time": "2022-02-08T01:55:56.001462Z",
     "start_time": "2022-02-08T01:53:51.089796Z"
    }
   },
   "outputs": [
    {
     "data": {
      "text/html": [
       "<div>\n",
       "<style scoped>\n",
       "    .dataframe tbody tr th:only-of-type {\n",
       "        vertical-align: middle;\n",
       "    }\n",
       "\n",
       "    .dataframe tbody tr th {\n",
       "        vertical-align: top;\n",
       "    }\n",
       "\n",
       "    .dataframe thead th {\n",
       "        text-align: right;\n",
       "    }\n",
       "</style>\n",
       "<table border=\"1\" class=\"dataframe\">\n",
       "  <thead>\n",
       "    <tr style=\"text-align: right;\">\n",
       "      <th></th>\n",
       "      <th>cluster</th>\n",
       "      <th>genero</th>\n",
       "    </tr>\n",
       "  </thead>\n",
       "  <tbody>\n",
       "    <tr>\n",
       "      <th>59612</th>\n",
       "      <td>2</td>\n",
       "      <td>comics_graphic</td>\n",
       "    </tr>\n",
       "    <tr>\n",
       "      <th>25671</th>\n",
       "      <td>1</td>\n",
       "      <td>poetry</td>\n",
       "    </tr>\n",
       "    <tr>\n",
       "      <th>168863</th>\n",
       "      <td>0</td>\n",
       "      <td>mystery_thriller_crime</td>\n",
       "    </tr>\n",
       "    <tr>\n",
       "      <th>274184</th>\n",
       "      <td>2</td>\n",
       "      <td>romance</td>\n",
       "    </tr>\n",
       "    <tr>\n",
       "      <th>73873</th>\n",
       "      <td>0</td>\n",
       "      <td>comics_graphic</td>\n",
       "    </tr>\n",
       "  </tbody>\n",
       "</table>\n",
       "</div>"
      ],
      "text/plain": [
       "        cluster                  genero\n",
       "59612         2          comics_graphic\n",
       "25671         1                  poetry\n",
       "168863        0  mystery_thriller_crime\n",
       "274184        2                 romance\n",
       "73873         0          comics_graphic"
      ]
     },
     "execution_count": 17,
     "metadata": {},
     "output_type": "execute_result"
    }
   ],
   "source": [
    "# Criando o modelo\n",
    "clustering_svd = AgglomerativeClustering(n_clusters = 8)\n",
    "\n",
    "# Treinando o modelo\n",
    "clustering_svd.fit(data)\n",
    "\n",
    "df_hier_svd = pd.DataFrame(index = df.index)\n",
    "\n",
    "# Obtendo os resultados do kmeans\n",
    "df_hier_svd['cluster'] = clustering_svd.labels_\n",
    "\n",
    "# # Adicionando o genero literario ao dataframe\n",
    "df_hier_svd['genero'] = df['genero'].values\n",
    "\n",
    "df_hier_svd.head()"
   ]
  },
  {
   "cell_type": "code",
   "execution_count": 18,
   "id": "subject-recycling",
   "metadata": {
    "ExecuteTime": {
     "end_time": "2022-02-08T01:55:56.932463Z",
     "start_time": "2022-02-08T01:55:56.003463Z"
    },
    "scrolled": true
   },
   "outputs": [
    {
     "data": {
      "image/png": "[encoded data removed]",
      "text/plain": [
       "<Figure size 720x360 with 1 Axes>"
      ]
     },
     "metadata": {
      "needs_background": "light"
     },
     "output_type": "display_data"
    },
    {
     "data": {
      "image/png": "[encoded data removed]",
      "text/plain": [
       "<Figure size 720x360 with 1 Axes>"
      ]
     },
     "metadata": {
      "needs_background": "light"
     },
     "output_type": "display_data"
    },
    {
     "data": {
      "image/png": "[encoded data removed]",
      "text/plain": [
       "<Figure size 720x360 with 1 Axes>"
      ]
     },
     "metadata": {
      "needs_background": "light"
     },
     "output_type": "display_data"
    },
    {
     "data": {
      "image/png": "[encoded data removed]",
      "text/plain": [
       "<Figure size 720x360 with 1 Axes>"
      ]
     },
     "metadata": {
      "needs_background": "light"
     },
     "output_type": "display_data"
    },
    {
     "data": {
      "image/png": "[encoded data removed]",
      "text/plain": [
       "<Figure size 720x360 with 1 Axes>"
      ]
     },
     "metadata": {
      "needs_background": "light"
     },
     "output_type": "display_data"
    },
    {
     "data": {
      "image/png": "[encoded data removed]",
      "text/plain": [
       "<Figure size 720x360 with 1 Axes>"
      ]
     },
     "metadata": {
      "needs_background": "light"
     },
     "output_type": "display_data"
    },
    {
     "data": {
      "image/png": "[encoded data removed]",
      "text/plain": [
       "<Figure size 720x360 with 1 Axes>"
      ]
     },
     "metadata": {
      "needs_background": "light"
     },
     "output_type": "display_data"
    },
    {
     "data": {
      "image/png": "[encoded data removed]",
      "text/plain": [
       "<Figure size 720x360 with 1 Axes>"
      ]
     },
     "metadata": {
      "needs_background": "light"
     },
     "output_type": "display_data"
    }
   ],
   "source": [
    "# Gerando os dados e graficos para cada genero\n",
    "res_list = []\n",
    "for genero in genero_list:\n",
    "    res_list.append(analise_cluster(df_hier_svd, genero))"
   ]
  },
  {
   "cell_type": "markdown",
   "id": "gentle-bristol",
   "metadata": {},
   "source": [
    "### Análise\n",
    "\n",
    "Pode-se perceber que o agrupamento hierárquico não foi capaz de chegar a 8 grupos diferentes. Sendo assim, apenas 3 dos 8 gêneros serão relacionados a clusters, com o restante dos clusters sendo considerados como classificações erradas.\n",
    "\n",
    "Assim:\n",
    "- Cluster 0 -> romance\n",
    "- Cluster 1 -> poetry\n",
    "- Cluster 2 -> comics_graphic\n",
    "- Cluster 3 -> impreciso\n",
    "- Cluster 4 -> impreciso\n",
    "- Cluster 5 -> impreciso\n",
    "- Cluster 6 -> impreciso\n",
    "- Cluster 7 -> impreciso"
   ]
  },
  {
   "cell_type": "code",
   "execution_count": 19,
   "id": "proved-french",
   "metadata": {
    "ExecuteTime": {
     "end_time": "2022-02-08T01:55:56.948463Z",
     "start_time": "2022-02-08T01:55:56.934463Z"
    }
   },
   "outputs": [
    {
     "name": "stdout",
     "output_type": "stream",
     "text": [
      "Acurácia Agrupamento Hierárquico: 24.562%\n"
     ]
    }
   ],
   "source": [
    "# Criando uma nova coluna com os generos codificados\n",
    "df_hier_svd['encoded_genre'] = df_hier_svd['genero'].map({'romance': 0, 'poetry': 1, 'comics_graphic': 2, 'history_biography': 8,\n",
    "                         'children': 8, 'mystery_thriller_crime': 8, 'fantasy_paranormal': 8, 'young_adult': 8}).values\n",
    "\n",
    "# Calculando a acuracia\n",
    "acc_score_hier_svd = accuracy_score(df_hier_svd['encoded_genre'], df_hier_svd['cluster'])\n",
    "print('Acurácia Agrupamento Hierárquico: {:.3f}%'.format(acc_score_hier_svd * 100))"
   ]
  },
  {
   "cell_type": "markdown",
   "id": "peaceful-skiing",
   "metadata": {},
   "source": [
    "## Utilizando Agrupamento Espectral"
   ]
  },
  {
   "cell_type": "code",
   "execution_count": 20,
   "id": "aboriginal-plain",
   "metadata": {
    "ExecuteTime": {
     "end_time": "2022-02-08T01:56:10.030797Z",
     "start_time": "2022-02-08T01:55:56.950468Z"
    }
   },
   "outputs": [
    {
     "data": {
      "text/html": [
       "<div>\n",
       "<style scoped>\n",
       "    .dataframe tbody tr th:only-of-type {\n",
       "        vertical-align: middle;\n",
       "    }\n",
       "\n",
       "    .dataframe tbody tr th {\n",
       "        vertical-align: top;\n",
       "    }\n",
       "\n",
       "    .dataframe thead th {\n",
       "        text-align: right;\n",
       "    }\n",
       "</style>\n",
       "<table border=\"1\" class=\"dataframe\">\n",
       "  <thead>\n",
       "    <tr style=\"text-align: right;\">\n",
       "      <th></th>\n",
       "      <th>cluster</th>\n",
       "      <th>genero</th>\n",
       "    </tr>\n",
       "  </thead>\n",
       "  <tbody>\n",
       "    <tr>\n",
       "      <th>59612</th>\n",
       "      <td>1</td>\n",
       "      <td>comics_graphic</td>\n",
       "    </tr>\n",
       "    <tr>\n",
       "      <th>25671</th>\n",
       "      <td>7</td>\n",
       "      <td>poetry</td>\n",
       "    </tr>\n",
       "    <tr>\n",
       "      <th>168863</th>\n",
       "      <td>3</td>\n",
       "      <td>mystery_thriller_crime</td>\n",
       "    </tr>\n",
       "    <tr>\n",
       "      <th>274184</th>\n",
       "      <td>5</td>\n",
       "      <td>romance</td>\n",
       "    </tr>\n",
       "    <tr>\n",
       "      <th>73873</th>\n",
       "      <td>1</td>\n",
       "      <td>comics_graphic</td>\n",
       "    </tr>\n",
       "  </tbody>\n",
       "</table>\n",
       "</div>"
      ],
      "text/plain": [
       "        cluster                  genero\n",
       "59612         1          comics_graphic\n",
       "25671         7                  poetry\n",
       "168863        3  mystery_thriller_crime\n",
       "274184        5                 romance\n",
       "73873         1          comics_graphic"
      ]
     },
     "execution_count": 20,
     "metadata": {},
     "output_type": "execute_result"
    }
   ],
   "source": [
    "# Criando o modelo\n",
    "spec_clus_svd = SpectralClustering(n_clusters = 8, random_state = 0)\n",
    "\n",
    "# Treinando o modelo\n",
    "spec_clus_svd.fit(data)\n",
    "\n",
    "df_spec_svd = pd.DataFrame(index = df.index)\n",
    "\n",
    "# Obtendo os resultados do kmeans\n",
    "df_spec_svd['cluster'] = spec_clus_svd.labels_\n",
    "\n",
    "# # Adicionando o genero literario ao dataframe\n",
    "df_spec_svd['genero'] = df['genero'].values\n",
    "\n",
    "df_spec_svd.head()"
   ]
  },
  {
   "cell_type": "code",
   "execution_count": 21,
   "id": "blank-abortion",
   "metadata": {
    "ExecuteTime": {
     "end_time": "2022-02-08T01:56:10.928797Z",
     "start_time": "2022-02-08T01:56:10.031799Z"
    },
    "scrolled": true
   },
   "outputs": [
    {
     "data": {
      "image/png": "[encoded data removed]",
      "text/plain": [
       "<Figure size 720x360 with 1 Axes>"
      ]
     },
     "metadata": {
      "needs_background": "light"
     },
     "output_type": "display_data"
    },
    {
     "data": {
      "image/png": "[encoded data removed]",
      "text/plain": [
       "<Figure size 720x360 with 1 Axes>"
      ]
     },
     "metadata": {
      "needs_background": "light"
     },
     "output_type": "display_data"
    },
    {
     "data": {
      "image/png": "[encoded data removed]",
      "text/plain": [
       "<Figure size 720x360 with 1 Axes>"
      ]
     },
     "metadata": {
      "needs_background": "light"
     },
     "output_type": "display_data"
    },
    {
     "data": {
      "image/png": "[encoded data removed]",
      "text/plain": [
       "<Figure size 720x360 with 1 Axes>"
      ]
     },
     "metadata": {
      "needs_background": "light"
     },
     "output_type": "display_data"
    },
    {
     "data": {
      "image/png": "[encoded data removed]",
      "text/plain": [
       "<Figure size 720x360 with 1 Axes>"
      ]
     },
     "metadata": {
      "needs_background": "light"
     },
     "output_type": "display_data"
    },
    {
     "data": {
      "image/png": "[encoded data removed]",
      "text/plain": [
       "<Figure size 720x360 with 1 Axes>"
      ]
     },
     "metadata": {
      "needs_background": "light"
     },
     "output_type": "display_data"
    },
    {
     "data": {
      "image/png": "[encoded data removed]",
      "text/plain": [
       "<Figure size 720x360 with 1 Axes>"
      ]
     },
     "metadata": {
      "needs_background": "light"
     },
     "output_type": "display_data"
    },
    {
     "data": {
      "image/png": "[encoded data removed]",
      "text/plain": [
       "<Figure size 720x360 with 1 Axes>"
      ]
     },
     "metadata": {
      "needs_background": "light"
     },
     "output_type": "display_data"
    }
   ],
   "source": [
    "# Gerando os dados e graficos para cada genero\n",
    "res_list = []\n",
    "for genero in genero_list:\n",
    "    res_list.append(analise_cluster(df_spec_svd, genero))"
   ]
  },
  {
   "cell_type": "markdown",
   "id": "standard-wilson",
   "metadata": {},
   "source": [
    "### Análise\n",
    "\n",
    "Semelhante ao agrupamento hierárquico, não foi possível de chegar a 8 grupos diferentes. Sendo assim, apenas 5 dos 8 gêneros serão relacionados a clusters, com o restante dos clusters sendo considerados como classificações erradas.\n",
    "\n",
    "Assim:\n",
    "- Cluster 0 -> poetry\n",
    "- Cluster 1 -> mystery_thriller_crime\n",
    "- Cluster 2 -> impreciso\n",
    "- Cluster 3 -> history_biography\n",
    "- Cluster 4 -> impreciso\n",
    "- Cluster 5 -> romance\n",
    "- Cluster 6 -> impreciso\n",
    "- Cluster 7 -> children"
   ]
  },
  {
   "cell_type": "code",
   "execution_count": 22,
   "id": "assumed-rescue",
   "metadata": {
    "ExecuteTime": {
     "end_time": "2022-02-08T01:56:10.943797Z",
     "start_time": "2022-02-08T01:56:10.930798Z"
    }
   },
   "outputs": [
    {
     "name": "stdout",
     "output_type": "stream",
     "text": [
      "Acurácia Agrupamento Espectral: 30.862%\n"
     ]
    }
   ],
   "source": [
    "# Criando uma nova coluna com os generos codificados\n",
    "df_spec_svd['encoded_genre'] = df_spec_svd['genero'].map({'poetry': 0, 'mystery_thriller_crime': 1, 'comics_graphic': 8, 'history_biography': 3,\n",
    "                         'children': 7, 'romance': 5, 'fantasy_paranormal': 8, 'young_adult': 8}).values\n",
    "\n",
    "# Calculando a acuracia\n",
    "acc_score_spec_svd = accuracy_score(df_spec_svd['encoded_genre'], df_spec_svd['cluster'])\n",
    "print('Acurácia Agrupamento Espectral: {:.3f}%'.format(acc_score_spec_svd * 100))"
   ]
  },
  {
   "cell_type": "markdown",
   "id": "dramatic-foundation",
   "metadata": {},
   "source": [
    "# Clusterização sem Redução de Dimensionalidade\n",
    "\n",
    "Agora, o mesmo procedimento realizado anteriormente será refeito, porém dessa vez sem que os dados tenham sofrido redução de dimensionalidade. "
   ]
  },
  {
   "cell_type": "markdown",
   "id": "wireless-wagon",
   "metadata": {},
   "source": [
    "## Utilizando K-Means"
   ]
  },
  {
   "cell_type": "code",
   "execution_count": 23,
   "id": "dental-mattress",
   "metadata": {
    "ExecuteTime": {
     "end_time": "2022-02-08T01:57:16.270797Z",
     "start_time": "2022-02-08T01:56:10.945798Z"
    }
   },
   "outputs": [
    {
     "data": {
      "text/html": [
       "<div>\n",
       "<style scoped>\n",
       "    .dataframe tbody tr th:only-of-type {\n",
       "        vertical-align: middle;\n",
       "    }\n",
       "\n",
       "    .dataframe tbody tr th {\n",
       "        vertical-align: top;\n",
       "    }\n",
       "\n",
       "    .dataframe thead th {\n",
       "        text-align: right;\n",
       "    }\n",
       "</style>\n",
       "<table border=\"1\" class=\"dataframe\">\n",
       "  <thead>\n",
       "    <tr style=\"text-align: right;\">\n",
       "      <th></th>\n",
       "      <th>cluster</th>\n",
       "      <th>genero</th>\n",
       "    </tr>\n",
       "  </thead>\n",
       "  <tbody>\n",
       "    <tr>\n",
       "      <th>59612</th>\n",
       "      <td>7</td>\n",
       "      <td>comics_graphic</td>\n",
       "    </tr>\n",
       "    <tr>\n",
       "      <th>25671</th>\n",
       "      <td>1</td>\n",
       "      <td>poetry</td>\n",
       "    </tr>\n",
       "    <tr>\n",
       "      <th>168863</th>\n",
       "      <td>2</td>\n",
       "      <td>mystery_thriller_crime</td>\n",
       "    </tr>\n",
       "    <tr>\n",
       "      <th>274184</th>\n",
       "      <td>4</td>\n",
       "      <td>romance</td>\n",
       "    </tr>\n",
       "    <tr>\n",
       "      <th>73873</th>\n",
       "      <td>2</td>\n",
       "      <td>comics_graphic</td>\n",
       "    </tr>\n",
       "  </tbody>\n",
       "</table>\n",
       "</div>"
      ],
      "text/plain": [
       "        cluster                  genero\n",
       "59612         7          comics_graphic\n",
       "25671         1                  poetry\n",
       "168863        2  mystery_thriller_crime\n",
       "274184        4                 romance\n",
       "73873         2          comics_graphic"
      ]
     },
     "execution_count": 23,
     "metadata": {},
     "output_type": "execute_result"
    }
   ],
   "source": [
    "# Inicializando o modelo\n",
    "kmeans = KMeans(n_clusters = 8, random_state = 0)\n",
    "\n",
    "# Treinando o modelo\n",
    "kmeans.fit(tfidf)\n",
    "\n",
    "df_kmeans = pd.DataFrame(index = df.index)\n",
    "\n",
    "# Obtendo os resultados do kmeans\n",
    "df_kmeans['cluster'] = kmeans.labels_\n",
    "\n",
    "# # Adicionando o genero literario ao dataframe\n",
    "df_kmeans['genero'] = df['genero'].values\n",
    "\n",
    "df_kmeans.head()"
   ]
  },
  {
   "cell_type": "code",
   "execution_count": 24,
   "id": "revised-salmon",
   "metadata": {
    "ExecuteTime": {
     "end_time": "2022-02-08T01:57:17.186801Z",
     "start_time": "2022-02-08T01:57:16.271846Z"
    }
   },
   "outputs": [
    {
     "data": {
      "image/png": "[encoded data removed]",
      "text/plain": [
       "<Figure size 720x360 with 1 Axes>"
      ]
     },
     "metadata": {
      "needs_background": "light"
     },
     "output_type": "display_data"
    },
    {
     "data": {
      "image/png": "[encoded data removed]",
      "text/plain": [
       "<Figure size 720x360 with 1 Axes>"
      ]
     },
     "metadata": {
      "needs_background": "light"
     },
     "output_type": "display_data"
    },
    {
     "data": {
      "image/png": "[encoded data removed]",
      "text/plain": [
       "<Figure size 720x360 with 1 Axes>"
      ]
     },
     "metadata": {
      "needs_background": "light"
     },
     "output_type": "display_data"
    },
    {
     "data": {
      "image/png": "[encoded data removed]",
      "text/plain": [
       "<Figure size 720x360 with 1 Axes>"
      ]
     },
     "metadata": {
      "needs_background": "light"
     },
     "output_type": "display_data"
    },
    {
     "data": {
      "image/png": "[encoded data removed]",
      "text/plain": [
       "<Figure size 720x360 with 1 Axes>"
      ]
     },
     "metadata": {
      "needs_background": "light"
     },
     "output_type": "display_data"
    },
    {
     "data": {
      "image/png": "[encoded data removed]",
      "text/plain": [
       "<Figure size 720x360 with 1 Axes>"
      ]
     },
     "metadata": {
      "needs_background": "light"
     },
     "output_type": "display_data"
    },
    {
     "data": {
      "image/png": "[encoded data removed]",
      "text/plain": [
       "<Figure size 720x360 with 1 Axes>"
      ]
     },
     "metadata": {
      "needs_background": "light"
     },
     "output_type": "display_data"
    },
    {
     "data": {
      "image/png": "[encoded data removed]",
      "text/plain": [
       "<Figure size 720x360 with 1 Axes>"
      ]
     },
     "metadata": {
      "needs_background": "light"
     },
     "output_type": "display_data"
    }
   ],
   "source": [
    "# Gerando os dados e graficos para cada genero\n",
    "res_list = []\n",
    "for genero in genero_list:\n",
    "    res_list.append(analise_cluster(df_kmeans, genero))"
   ]
  },
  {
   "cell_type": "markdown",
   "id": "dressed-capture",
   "metadata": {},
   "source": [
    "### Análise\n",
    "\n",
    "Aplicando a mesma metodologia que foi aplicada para os dados com redução de dimensionalidade, temos:\n",
    "\n",
    "- Cluster 0 -> children\n",
    "- Cluster 1 -> history_biography\n",
    "- Cluster 2 -> mystery_thriller_crime\n",
    "- Cluster 3 -> poetry\n",
    "- Cluster 4 -> young_adult\n",
    "- Cluster 5 -> fantasy_paranormal\n",
    "- Cluster 6 -> romance\n",
    "- Cluster 7 -> comics_graphic"
   ]
  },
  {
   "cell_type": "code",
   "execution_count": 25,
   "id": "greenhouse-hobby",
   "metadata": {
    "ExecuteTime": {
     "end_time": "2022-02-08T01:57:17.202797Z",
     "start_time": "2022-02-08T01:57:17.187802Z"
    }
   },
   "outputs": [
    {
     "name": "stdout",
     "output_type": "stream",
     "text": [
      "Acurácia K-Means: 46.487%\n"
     ]
    }
   ],
   "source": [
    "# Criando uma nova coluna com os generos codificados\n",
    "df_kmeans['encoded_genre'] = df_kmeans['genero'].map({'poetry': 3, 'mystery_thriller_crime': 2, 'comics_graphic': 7, 'history_biography': 1,\n",
    "                         'children': 0, 'romance': 6, 'fantasy_paranormal': 5, 'young_adult': 4}).values\n",
    "\n",
    "# Calculando a acuracia\n",
    "acc_score_kmeans = accuracy_score(df_kmeans['encoded_genre'], df_kmeans['cluster'])\n",
    "print('Acurácia K-Means: {:.3f}%'.format(acc_score_kmeans * 100))"
   ]
  },
  {
   "cell_type": "markdown",
   "id": "hidden-bangladesh",
   "metadata": {},
   "source": [
    "## Utilizando Agrupamento Hierárquico"
   ]
  },
  {
   "cell_type": "code",
   "execution_count": 26,
   "id": "armed-portfolio",
   "metadata": {
    "ExecuteTime": {
     "end_time": "2022-02-08T02:11:05.807037Z",
     "start_time": "2022-02-08T01:57:17.204797Z"
    }
   },
   "outputs": [
    {
     "data": {
      "text/html": [
       "<div>\n",
       "<style scoped>\n",
       "    .dataframe tbody tr th:only-of-type {\n",
       "        vertical-align: middle;\n",
       "    }\n",
       "\n",
       "    .dataframe tbody tr th {\n",
       "        vertical-align: top;\n",
       "    }\n",
       "\n",
       "    .dataframe thead th {\n",
       "        text-align: right;\n",
       "    }\n",
       "</style>\n",
       "<table border=\"1\" class=\"dataframe\">\n",
       "  <thead>\n",
       "    <tr style=\"text-align: right;\">\n",
       "      <th></th>\n",
       "      <th>cluster</th>\n",
       "      <th>genero</th>\n",
       "    </tr>\n",
       "  </thead>\n",
       "  <tbody>\n",
       "    <tr>\n",
       "      <th>59612</th>\n",
       "      <td>0</td>\n",
       "      <td>comics_graphic</td>\n",
       "    </tr>\n",
       "    <tr>\n",
       "      <th>25671</th>\n",
       "      <td>1</td>\n",
       "      <td>poetry</td>\n",
       "    </tr>\n",
       "    <tr>\n",
       "      <th>168863</th>\n",
       "      <td>2</td>\n",
       "      <td>mystery_thriller_crime</td>\n",
       "    </tr>\n",
       "    <tr>\n",
       "      <th>274184</th>\n",
       "      <td>0</td>\n",
       "      <td>romance</td>\n",
       "    </tr>\n",
       "    <tr>\n",
       "      <th>73873</th>\n",
       "      <td>2</td>\n",
       "      <td>comics_graphic</td>\n",
       "    </tr>\n",
       "  </tbody>\n",
       "</table>\n",
       "</div>"
      ],
      "text/plain": [
       "        cluster                  genero\n",
       "59612         0          comics_graphic\n",
       "25671         1                  poetry\n",
       "168863        2  mystery_thriller_crime\n",
       "274184        0                 romance\n",
       "73873         2          comics_graphic"
      ]
     },
     "execution_count": 26,
     "metadata": {},
     "output_type": "execute_result"
    }
   ],
   "source": [
    "# Criando o modelo\n",
    "clustering = AgglomerativeClustering(n_clusters = 8)\n",
    "\n",
    "# Treinando o modelo\n",
    "clustering.fit(tfidf.toarray())\n",
    "\n",
    "df_hier = pd.DataFrame(index = df.index)\n",
    "\n",
    "# Obtendo os resultados do kmeans\n",
    "df_hier['cluster'] = clustering.labels_\n",
    "\n",
    "# # Adicionando o genero literario ao dataframe\n",
    "df_hier['genero'] = df['genero'].values\n",
    "\n",
    "df_hier.head()"
   ]
  },
  {
   "cell_type": "code",
   "execution_count": 27,
   "id": "excessive-precipitation",
   "metadata": {
    "ExecuteTime": {
     "end_time": "2022-02-08T02:11:06.693037Z",
     "start_time": "2022-02-08T02:11:05.813039Z"
    },
    "scrolled": true
   },
   "outputs": [
    {
     "data": {
      "image/png": "[encoded data removed]",
      "text/plain": [
       "<Figure size 720x360 with 1 Axes>"
      ]
     },
     "metadata": {
      "needs_background": "light"
     },
     "output_type": "display_data"
    },
    {
     "data": {
      "image/png": "[encoded data removed]",
      "text/plain": [
       "<Figure size 720x360 with 1 Axes>"
      ]
     },
     "metadata": {
      "needs_background": "light"
     },
     "output_type": "display_data"
    },
    {
     "data": {
      "image/png": "[encoded data removed]",
      "text/plain": [
       "<Figure size 720x360 with 1 Axes>"
      ]
     },
     "metadata": {
      "needs_background": "light"
     },
     "output_type": "display_data"
    },
    {
     "data": {
      "image/png": "[encoded data removed]",
      "text/plain": [
       "<Figure size 720x360 with 1 Axes>"
      ]
     },
     "metadata": {
      "needs_background": "light"
     },
     "output_type": "display_data"
    },
    {
     "data": {
      "image/png": "[encoded data removed]",
      "text/plain": [
       "<Figure size 720x360 with 1 Axes>"
      ]
     },
     "metadata": {
      "needs_background": "light"
     },
     "output_type": "display_data"
    },
    {
     "data": {
      "image/png": "[encoded data removed]",
      "text/plain": [
       "<Figure size 720x360 with 1 Axes>"
      ]
     },
     "metadata": {
      "needs_background": "light"
     },
     "output_type": "display_data"
    },
    {
     "data": {
      "image/png": "[encoded data removed]",
      "text/plain": [
       "<Figure size 720x360 with 1 Axes>"
      ]
     },
     "metadata": {
      "needs_background": "light"
     },
     "output_type": "display_data"
    },
    {
     "data": {
      "image/png": "[encoded data removed]",
      "text/plain": [
       "<Figure size 720x360 with 1 Axes>"
      ]
     },
     "metadata": {
      "needs_background": "light"
     },
     "output_type": "display_data"
    }
   ],
   "source": [
    "# Gerando os dados e graficos para cada genero\n",
    "res_list = []\n",
    "for genero in genero_list:\n",
    "    res_list.append(analise_cluster(df_hier, genero))"
   ]
  },
  {
   "cell_type": "markdown",
   "id": "electrical-virginia",
   "metadata": {},
   "source": [
    "### Análise\n",
    "\n",
    "Semelhante ao que resultado obtido para os dados com redução de dimensionalidade, apenas 3 clusters possuem uma quantidade significativa de amostras.\n",
    "\n",
    "Aplicando a mesma metodologia que foi aplicada para os dados com redução de dimensionalidade, temos:\n",
    "\n",
    "- Cluster 0 -> comics_graphic\n",
    "- Cluster 1 -> poetry\n",
    "- Cluster 2 -> romance\n",
    "- Cluster 3 -> impreciso\n",
    "- Cluster 4 -> impreciso\n",
    "- Cluster 5 -> impreciso\n",
    "- Cluster 6 -> impreciso\n",
    "- Cluster 7 -> impreciso"
   ]
  },
  {
   "cell_type": "code",
   "execution_count": 28,
   "id": "raised-circle",
   "metadata": {
    "ExecuteTime": {
     "end_time": "2022-02-08T02:11:06.709037Z",
     "start_time": "2022-02-08T02:11:06.696037Z"
    }
   },
   "outputs": [
    {
     "name": "stdout",
     "output_type": "stream",
     "text": [
      "Acurácia Agrupamento Hierárquico: 23.712%\n"
     ]
    }
   ],
   "source": [
    "# Criando uma nova coluna com os generos codificados\n",
    "df_hier['encoded_genre'] = df_hier['genero'].map({'poetry': 1, 'mystery_thriller_crime': 8, 'comics_graphic': 0, 'history_biography': 8,\n",
    "                         'children': 8, 'romance': 2, 'fantasy_paranormal': 8, 'young_adult': 8}).values\n",
    "\n",
    "# Calculando a acuracia\n",
    "acc_score_hier = accuracy_score(df_hier['encoded_genre'], df_hier['cluster'])\n",
    "print('Acurácia Agrupamento Hierárquico: {:.3f}%'.format(acc_score_hier * 100))"
   ]
  },
  {
   "cell_type": "markdown",
   "id": "looking-measure",
   "metadata": {},
   "source": [
    "## Aplicando Agrupamento Espectral"
   ]
  },
  {
   "cell_type": "code",
   "execution_count": 29,
   "id": "responsible-character",
   "metadata": {
    "ExecuteTime": {
     "end_time": "2022-02-08T02:11:36.127454Z",
     "start_time": "2022-02-08T02:11:06.711037Z"
    }
   },
   "outputs": [
    {
     "data": {
      "text/html": [
       "<div>\n",
       "<style scoped>\n",
       "    .dataframe tbody tr th:only-of-type {\n",
       "        vertical-align: middle;\n",
       "    }\n",
       "\n",
       "    .dataframe tbody tr th {\n",
       "        vertical-align: top;\n",
       "    }\n",
       "\n",
       "    .dataframe thead th {\n",
       "        text-align: right;\n",
       "    }\n",
       "</style>\n",
       "<table border=\"1\" class=\"dataframe\">\n",
       "  <thead>\n",
       "    <tr style=\"text-align: right;\">\n",
       "      <th></th>\n",
       "      <th>cluster</th>\n",
       "      <th>genero</th>\n",
       "    </tr>\n",
       "  </thead>\n",
       "  <tbody>\n",
       "    <tr>\n",
       "      <th>59612</th>\n",
       "      <td>1</td>\n",
       "      <td>comics_graphic</td>\n",
       "    </tr>\n",
       "    <tr>\n",
       "      <th>25671</th>\n",
       "      <td>5</td>\n",
       "      <td>poetry</td>\n",
       "    </tr>\n",
       "    <tr>\n",
       "      <th>168863</th>\n",
       "      <td>0</td>\n",
       "      <td>mystery_thriller_crime</td>\n",
       "    </tr>\n",
       "    <tr>\n",
       "      <th>274184</th>\n",
       "      <td>6</td>\n",
       "      <td>romance</td>\n",
       "    </tr>\n",
       "    <tr>\n",
       "      <th>73873</th>\n",
       "      <td>1</td>\n",
       "      <td>comics_graphic</td>\n",
       "    </tr>\n",
       "  </tbody>\n",
       "</table>\n",
       "</div>"
      ],
      "text/plain": [
       "        cluster                  genero\n",
       "59612         1          comics_graphic\n",
       "25671         5                  poetry\n",
       "168863        0  mystery_thriller_crime\n",
       "274184        6                 romance\n",
       "73873         1          comics_graphic"
      ]
     },
     "execution_count": 29,
     "metadata": {},
     "output_type": "execute_result"
    }
   ],
   "source": [
    "# Criando o modelo\n",
    "spec_clus = SpectralClustering(n_clusters = 8, random_state = 0)\n",
    "\n",
    "# Treinando o modelo\n",
    "spec_clus.fit(tfidf.toarray())\n",
    "\n",
    "df_spec = pd.DataFrame(index = df.index)\n",
    "\n",
    "# Obtendo os resultados do kmeans\n",
    "df_spec['cluster'] = spec_clus.labels_\n",
    "\n",
    "# # Adicionando o genero literario ao dataframe\n",
    "df_spec['genero'] = df['genero'].values\n",
    "\n",
    "df_spec.head()"
   ]
  },
  {
   "cell_type": "code",
   "execution_count": 30,
   "id": "roman-change",
   "metadata": {
    "ExecuteTime": {
     "end_time": "2022-02-08T02:11:36.979453Z",
     "start_time": "2022-02-08T02:11:36.128456Z"
    },
    "scrolled": true
   },
   "outputs": [
    {
     "data": {
      "image/png": "[encoded data removed]",
      "text/plain": [
       "<Figure size 720x360 with 1 Axes>"
      ]
     },
     "metadata": {
      "needs_background": "light"
     },
     "output_type": "display_data"
    },
    {
     "data": {
      "image/png": "[encoded data removed]",
      "text/plain": [
       "<Figure size 720x360 with 1 Axes>"
      ]
     },
     "metadata": {
      "needs_background": "light"
     },
     "output_type": "display_data"
    },
    {
     "data": {
      "image/png": "[encoded data removed]",
      "text/plain": [
       "<Figure size 720x360 with 1 Axes>"
      ]
     },
     "metadata": {
      "needs_background": "light"
     },
     "output_type": "display_data"
    },
    {
     "data": {
      "image/png": "[encoded data removed]",
      "text/plain": [
       "<Figure size 720x360 with 1 Axes>"
      ]
     },
     "metadata": {
      "needs_background": "light"
     },
     "output_type": "display_data"
    },
    {
     "data": {
      "image/png": "[encoded data removed]",
      "text/plain": [
       "<Figure size 720x360 with 1 Axes>"
      ]
     },
     "metadata": {
      "needs_background": "light"
     },
     "output_type": "display_data"
    },
    {
     "data": {
      "image/png": "[encoded data removed]",
      "text/plain": [
       "<Figure size 720x360 with 1 Axes>"
      ]
     },
     "metadata": {
      "needs_background": "light"
     },
     "output_type": "display_data"
    },
    {
     "data": {
      "image/png": "[encoded data removed]",
      "text/plain": [
       "<Figure size 720x360 with 1 Axes>"
      ]
     },
     "metadata": {
      "needs_background": "light"
     },
     "output_type": "display_data"
    },
    {
     "data": {
      "image/png": "[encoded data removed]",
      "text/plain": [
       "<Figure size 720x360 with 1 Axes>"
      ]
     },
     "metadata": {
      "needs_background": "light"
     },
     "output_type": "display_data"
    }
   ],
   "source": [
    "# Gerando os dados e graficos para cada genero\n",
    "res_list = []\n",
    "for genero in genero_list:\n",
    "    res_list.append(analise_cluster(df_spec, genero))"
   ]
  },
  {
   "cell_type": "markdown",
   "id": "devoted-weight",
   "metadata": {},
   "source": [
    "### Análise\n",
    "\n",
    "Semelhante ao que resultado obtido para os dados com redução de dimensionalidade, apenas 5 clusters possuem uma quantidade significativa de amostras.\n",
    "\n",
    "Aplicando a mesma metodologia que foi aplicada para os dados com redução de dimensionalidade, temos:\n",
    "\n",
    "- Cluster 0 -> fantasy_paranormal\n",
    "- Cluster 1 -> mystery_thriller_crime\n",
    "- Cluster 2 -> impreciso\n",
    "- Cluster 3 -> impreciso\n",
    "- Cluster 4 -> impreciso\n",
    "- Cluster 5 -> children\n",
    "- Cluster 6 -> romance\n",
    "- Cluster 7 -> poetry"
   ]
  },
  {
   "cell_type": "code",
   "execution_count": 31,
   "id": "forty-times",
   "metadata": {
    "ExecuteTime": {
     "end_time": "2022-02-08T02:11:36.994454Z",
     "start_time": "2022-02-08T02:11:36.981453Z"
    }
   },
   "outputs": [
    {
     "name": "stdout",
     "output_type": "stream",
     "text": [
      "Acurácia Agrupamento Espectral: 30.788%\n"
     ]
    }
   ],
   "source": [
    "# Criando uma nova coluna com os generos codificados\n",
    "df_spec['encoded_genre'] = df_spec['genero'].map({'poetry': 7, 'mystery_thriller_crime': 1, 'comics_graphic': 8, 'history_biography': 8,\n",
    "                         'children': 5, 'romance': 6, 'fantasy_paranormal': 0, 'young_adult': 8}).values\n",
    "\n",
    "# Calculando a acuracia\n",
    "acc_score_spec = accuracy_score(df_spec['encoded_genre'], df_spec['cluster'])\n",
    "print('Acurácia Agrupamento Espectral: {:.3f}%'.format(acc_score_spec * 100))"
   ]
  },
  {
   "cell_type": "markdown",
   "id": "surface-determination",
   "metadata": {},
   "source": [
    "# Resultados\n",
    "\n",
    "A seguir, todos os resultados obtidos serão resumidos em uma tabela para facilitar na comparação entre os diferentes métodos."
   ]
  },
  {
   "cell_type": "code",
   "execution_count": 32,
   "id": "later-xerox",
   "metadata": {
    "ExecuteTime": {
     "end_time": "2022-02-08T02:11:37.010454Z",
     "start_time": "2022-02-08T02:11:36.996454Z"
    }
   },
   "outputs": [
    {
     "data": {
      "text/html": [
       "<div>\n",
       "<style scoped>\n",
       "    .dataframe tbody tr th:only-of-type {\n",
       "        vertical-align: middle;\n",
       "    }\n",
       "\n",
       "    .dataframe tbody tr th {\n",
       "        vertical-align: top;\n",
       "    }\n",
       "\n",
       "    .dataframe thead th {\n",
       "        text-align: right;\n",
       "    }\n",
       "</style>\n",
       "<table border=\"1\" class=\"dataframe\">\n",
       "  <thead>\n",
       "    <tr style=\"text-align: right;\">\n",
       "      <th></th>\n",
       "      <th>Sem redução de dimensionalidade</th>\n",
       "      <th>Com redução de dimensionalidade</th>\n",
       "    </tr>\n",
       "  </thead>\n",
       "  <tbody>\n",
       "    <tr>\n",
       "      <th>K-Means</th>\n",
       "      <td>0.464875</td>\n",
       "      <td>0.394250</td>\n",
       "    </tr>\n",
       "    <tr>\n",
       "      <th>Agrp. Hierárquico</th>\n",
       "      <td>0.237125</td>\n",
       "      <td>0.245625</td>\n",
       "    </tr>\n",
       "    <tr>\n",
       "      <th>Agrp. Espectral</th>\n",
       "      <td>0.307875</td>\n",
       "      <td>0.308625</td>\n",
       "    </tr>\n",
       "  </tbody>\n",
       "</table>\n",
       "</div>"
      ],
      "text/plain": [
       "                   Sem redução de dimensionalidade  \\\n",
       "K-Means                                   0.464875   \n",
       "Agrp. Hierárquico                         0.237125   \n",
       "Agrp. Espectral                           0.307875   \n",
       "\n",
       "                   Com redução de dimensionalidade  \n",
       "K-Means                                   0.394250  \n",
       "Agrp. Hierárquico                         0.245625  \n",
       "Agrp. Espectral                           0.308625  "
      ]
     },
     "execution_count": 32,
     "metadata": {},
     "output_type": "execute_result"
    }
   ],
   "source": [
    "# Gerando uma tabela com os resultados\n",
    "data_res = pd.DataFrame(data = {'Sem redução de dimensionalidade': [acc_score_kmeans, acc_score_hier, acc_score_spec], \n",
    "                                'Com redução de dimensionalidade': [acc_score_kmeans_svd, acc_score_hier_svd, acc_score_spec_svd]}, \n",
    "                        index = ['K-Means', 'Agrp. Hierárquico', 'Agrp. Espectral'])\n",
    "\n",
    "data_res"
   ]
  },
  {
   "cell_type": "markdown",
   "id": "verified-stock",
   "metadata": {},
   "source": [
    "# Conclusão\n",
    "\n",
    "Observando os resultados, podemos concluir que nenhum dos métodos propostos conseguiu agrupar os livros por gênero de forma efetiva. O melhor resultado obtido, teve uma acurácia de apenas 46,49% aproximadamente. Isso significa que, em geral, os modelos não foram capaz de detectar muita relação entre as descrições dos livros e os gêneros literários aos quais eles pertencem.\n",
    "\n",
    "Conclui-se também que aplicar a redução de dimensionalidade, para esse conjunto de dados, não resultou na melhora expressiva dos resultados. Para o Agrupamento Hierárquico houve um aumento de 0,85% na acurácia e para o Agrupamento Espectral houve um aumento de 0,07% aproxidamante. No entano, para o K-Means, o conjunto de dados que não sofreu redução de dimensionalidade apresentou uma acurácia 7,23% maior, aproxidamente, quando comparado com o conjunto com menos variáveis."
   ]
  },
  {
   "cell_type": "markdown",
   "id": "attractive-rhythm",
   "metadata": {},
   "source": [
    "# Análise por gênero\n",
    "\n",
    "Agora será feita uma análise por gênero literário para determinar qual a acurácia dos modelos para cada gênero."
   ]
  },
  {
   "cell_type": "code",
   "execution_count": 33,
   "id": "intelligent-tract",
   "metadata": {
    "ExecuteTime": {
     "end_time": "2022-02-08T02:11:37.074454Z",
     "start_time": "2022-02-08T02:11:37.011454Z"
    }
   },
   "outputs": [
    {
     "data": {
      "text/html": [
       "<div>\n",
       "<style scoped>\n",
       "    .dataframe tbody tr th:only-of-type {\n",
       "        vertical-align: middle;\n",
       "    }\n",
       "\n",
       "    .dataframe tbody tr th {\n",
       "        vertical-align: top;\n",
       "    }\n",
       "\n",
       "    .dataframe thead th {\n",
       "        text-align: right;\n",
       "    }\n",
       "</style>\n",
       "<table border=\"1\" class=\"dataframe\">\n",
       "  <thead>\n",
       "    <tr style=\"text-align: right;\">\n",
       "      <th></th>\n",
       "      <th>poetry</th>\n",
       "      <th>romance</th>\n",
       "      <th>children</th>\n",
       "      <th>comics_graphic</th>\n",
       "      <th>fantasy_paranormal</th>\n",
       "      <th>history_biography</th>\n",
       "      <th>mystery_thriller_crime</th>\n",
       "      <th>young_adult</th>\n",
       "    </tr>\n",
       "  </thead>\n",
       "  <tbody>\n",
       "    <tr>\n",
       "      <th>K-Means com TSVD</th>\n",
       "      <td>0.646</td>\n",
       "      <td>0.704</td>\n",
       "      <td>0.250</td>\n",
       "      <td>0.236</td>\n",
       "      <td>0.168</td>\n",
       "      <td>0.680</td>\n",
       "      <td>0.468</td>\n",
       "      <td>0.002</td>\n",
       "    </tr>\n",
       "    <tr>\n",
       "      <th>Agr. Hierarquico com TSVD</th>\n",
       "      <td>0.540</td>\n",
       "      <td>0.780</td>\n",
       "      <td>0.000</td>\n",
       "      <td>0.645</td>\n",
       "      <td>0.000</td>\n",
       "      <td>0.000</td>\n",
       "      <td>0.000</td>\n",
       "      <td>0.000</td>\n",
       "    </tr>\n",
       "    <tr>\n",
       "      <th>Agr. Espectral com TSVD</th>\n",
       "      <td>0.529</td>\n",
       "      <td>0.607</td>\n",
       "      <td>0.313</td>\n",
       "      <td>0.000</td>\n",
       "      <td>0.000</td>\n",
       "      <td>0.433</td>\n",
       "      <td>0.587</td>\n",
       "      <td>0.000</td>\n",
       "    </tr>\n",
       "    <tr>\n",
       "      <th>K-Means sem TSVD</th>\n",
       "      <td>0.605</td>\n",
       "      <td>0.597</td>\n",
       "      <td>0.244</td>\n",
       "      <td>0.609</td>\n",
       "      <td>0.335</td>\n",
       "      <td>0.399</td>\n",
       "      <td>0.568</td>\n",
       "      <td>0.362</td>\n",
       "    </tr>\n",
       "    <tr>\n",
       "      <th>Agr. Hierarquico sem TSVD</th>\n",
       "      <td>0.469</td>\n",
       "      <td>0.634</td>\n",
       "      <td>0.000</td>\n",
       "      <td>0.794</td>\n",
       "      <td>0.000</td>\n",
       "      <td>0.000</td>\n",
       "      <td>0.000</td>\n",
       "      <td>0.000</td>\n",
       "    </tr>\n",
       "    <tr>\n",
       "      <th>Agr. Espectral sem TSVD</th>\n",
       "      <td>0.535</td>\n",
       "      <td>0.586</td>\n",
       "      <td>0.315</td>\n",
       "      <td>0.000</td>\n",
       "      <td>0.450</td>\n",
       "      <td>0.000</td>\n",
       "      <td>0.577</td>\n",
       "      <td>0.000</td>\n",
       "    </tr>\n",
       "  </tbody>\n",
       "</table>\n",
       "</div>"
      ],
      "text/plain": [
       "                           poetry  romance  children  comics_graphic  \\\n",
       "K-Means com TSVD            0.646    0.704     0.250           0.236   \n",
       "Agr. Hierarquico com TSVD   0.540    0.780     0.000           0.645   \n",
       "Agr. Espectral com TSVD     0.529    0.607     0.313           0.000   \n",
       "K-Means sem TSVD            0.605    0.597     0.244           0.609   \n",
       "Agr. Hierarquico sem TSVD   0.469    0.634     0.000           0.794   \n",
       "Agr. Espectral sem TSVD     0.535    0.586     0.315           0.000   \n",
       "\n",
       "                           fantasy_paranormal  history_biography  \\\n",
       "K-Means com TSVD                        0.168              0.680   \n",
       "Agr. Hierarquico com TSVD               0.000              0.000   \n",
       "Agr. Espectral com TSVD                 0.000              0.433   \n",
       "K-Means sem TSVD                        0.335              0.399   \n",
       "Agr. Hierarquico sem TSVD               0.000              0.000   \n",
       "Agr. Espectral sem TSVD                 0.450              0.000   \n",
       "\n",
       "                           mystery_thriller_crime  young_adult  \n",
       "K-Means com TSVD                            0.468        0.002  \n",
       "Agr. Hierarquico com TSVD                   0.000        0.000  \n",
       "Agr. Espectral com TSVD                     0.587        0.000  \n",
       "K-Means sem TSVD                            0.568        0.362  \n",
       "Agr. Hierarquico sem TSVD                   0.000        0.000  \n",
       "Agr. Espectral sem TSVD                     0.577        0.000  "
      ]
     },
     "execution_count": 33,
     "metadata": {},
     "output_type": "execute_result"
    }
   ],
   "source": [
    "# Lista dos modelos\n",
    "lista_modelos = [(df_kmeans_svd, 'K-Means com TSVD'), (df_hier_svd, 'Agr. Hierarquico com TSVD'), \n",
    "                 (df_spec_svd, 'Agr. Espectral com TSVD'), (df_kmeans, 'K-Means sem TSVD'),\n",
    "                 (df_hier, 'Agr. Hierarquico sem TSVD'), (df_spec, 'Agr. Espectral sem TSVD')]\n",
    "\n",
    "df_resultados = pd.DataFrame()\n",
    "for modelo, nome in lista_modelos:\n",
    "    data_modelos = acc_genero(modelo, nome)\n",
    "    df_resultados = pd.concat([df_resultados, data_modelos], axis = 0)\n",
    "    \n",
    "df_resultados"
   ]
  },
  {
   "cell_type": "markdown",
   "id": "genetic-panel",
   "metadata": {},
   "source": [
    "# Análise\n",
    "\n",
    "Pode-se perceber que quando os modelos são analisados individualmente por gênero, os resultados são bem diferentes dos obtidos anteriormente. Aqui é possível perceber que para alguns gêneros, os modelos conseguem resultados significativos, como por exemplo o Agrupamento Hierárquico sem redução de dimensionalidade, que obteve 79,40% de acurácia na classificação dos textos do gênero comics_graphic.\n",
    "\n",
    "Pode-se perceber também que para essa análise, em geral, os resultados foram consideravelmente diferentes entre os conjuntos de dados com diminuição de dimensionalidade e os sem redução de dimensionalidade. As maiores diferenças foram para os gêneros romance (Agr. Hierarquico: diferença de 14,6%), comics_graphic (K-Means: diferença de 37,3%), history_biography (K-Means: diferença de 28,1%) e young_adult (K-Means: diferença de 36%)."
   ]
  },
  {
   "cell_type": "markdown",
   "id": "protecting-mobile",
   "metadata": {},
   "source": [
    "# Conclusão\n",
    "\n",
    "Os modelos obtiveram uma performance melhor quando os gêneros foram analisados individualmente se comparados com os resultados obtidos considerando todos os gêneros juntos. Isso pode ser justificado pois, para alguns gêneros, os modelos tiveram uma performance muito ruim (children, fantasy_paranormal e young_adult), o que acabou reduziondo a acurácia total, mescom com alguns gêneros obtendo uma acurácia relativamente boa, acima de 75% (romance, comics_graph).\n",
    "\n",
    "Quanto à redução de dimensionalidade não foi possível chegar a nenhuma conclusão unânime. Para algumas análises ela melhorou o resultado obtido, enquanto que para outras ela diminui a acurácia. "
   ]
  }
 ],
 "metadata": {
  "kernelspec": {
   "display_name": "Python 3",
   "language": "python",
   "name": "python3"
  },
  "language_info": {
   "codemirror_mode": {
    "name": "ipython",
    "version": 3
   },
   "file_extension": ".py",
   "mimetype": "text/x-python",
   "name": "python",
   "nbconvert_exporter": "python",
   "pygments_lexer": "ipython3",
   "version": "3.8.5"
  },
  "toc": {
   "base_numbering": 1,
   "nav_menu": {},
   "number_sections": true,
   "sideBar": true,
   "skip_h1_title": false,
   "title_cell": "Table of Contents",
   "title_sidebar": "Contents",
   "toc_cell": false,
   "toc_position": {
    "height": "calc(100% - 180px)",
    "left": "10px",
    "top": "150px",
    "width": "271px"
   },
   "toc_section_display": true,
   "toc_window_display": true
  },
  "varInspector": {
   "cols": {
    "lenName": 16,
    "lenType": 16,
    "lenVar": 40
   },
   "kernels_config": {
    "python": {
     "delete_cmd_postfix": "",
     "delete_cmd_prefix": "del ",
     "library": "var_list.py",
     "varRefreshCmd": "print(var_dic_list())"
    },
    "r": {
     "delete_cmd_postfix": ") ",
     "delete_cmd_prefix": "rm(",
     "library": "var_list.r",
     "varRefreshCmd": "cat(var_dic_list()) "
    }
   },
   "types_to_exclude": [
    "module",
    "function",
    "builtin_function_or_method",
    "instance",
    "_Feature"
   ],
   "window_display": false
  }
 },
 "nbformat": 4,
 "nbformat_minor": 5
}
