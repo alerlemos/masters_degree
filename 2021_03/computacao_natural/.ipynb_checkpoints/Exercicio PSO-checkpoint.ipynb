{
 "cells": [
  {
   "cell_type": "markdown",
   "id": "optical-collection",
   "metadata": {},
   "source": [
    "# Inicialização"
   ]
  },
  {
   "cell_type": "markdown",
   "id": "criminal-testimony",
   "metadata": {},
   "source": [
    "## Instalando pyswarms"
   ]
  },
  {
   "cell_type": "code",
   "execution_count": 4,
   "id": "athletic-framing",
   "metadata": {
    "ExecuteTime": {
     "end_time": "2021-11-09T02:06:20.066284Z",
     "start_time": "2021-11-09T02:06:17.006074Z"
    },
    "scrolled": true
   },
   "outputs": [
    {
     "name": "stdout",
     "output_type": "stream",
     "text": [
      "Collecting pyswarms\n",
      "  Downloading pyswarms-1.3.0-py2.py3-none-any.whl (104 kB)\n",
      "Requirement already satisfied: pyyaml in c:\\users\\xande\\anaconda3\\lib\\site-packages (from pyswarms) (5.4.1)\n",
      "Requirement already satisfied: tqdm in c:\\users\\xande\\anaconda3\\lib\\site-packages (from pyswarms) (4.56.0)\n",
      "Requirement already satisfied: numpy in c:\\users\\xande\\anaconda3\\lib\\site-packages (from pyswarms) (1.21.2)\n",
      "Requirement already satisfied: attrs in c:\\users\\xande\\anaconda3\\lib\\site-packages (from pyswarms) (20.3.0)\n",
      "Requirement already satisfied: scipy in c:\\users\\xande\\anaconda3\\lib\\site-packages (from pyswarms) (1.5.3)\n",
      "Requirement already satisfied: future in c:\\users\\xande\\anaconda3\\lib\\site-packages (from pyswarms) (0.18.2)\n",
      "Requirement already satisfied: matplotlib>=1.3.1 in c:\\users\\xande\\anaconda3\\lib\\site-packages (from pyswarms) (3.3.4)\n",
      "Requirement already satisfied: python-dateutil>=2.1 in c:\\users\\xande\\anaconda3\\lib\\site-packages (from matplotlib>=1.3.1->pyswarms) (2.8.1)\n",
      "Requirement already satisfied: pyparsing!=2.0.4,!=2.1.2,!=2.1.6,>=2.0.3 in c:\\users\\xande\\anaconda3\\lib\\site-packages (from matplotlib>=1.3.1->pyswarms) (2.4.7)\n",
      "Requirement already satisfied: pillow>=6.2.0 in c:\\users\\xande\\anaconda3\\lib\\site-packages (from matplotlib>=1.3.1->pyswarms) (8.1.0)\n",
      "Requirement already satisfied: cycler>=0.10 in c:\\users\\xande\\anaconda3\\lib\\site-packages (from matplotlib>=1.3.1->pyswarms) (0.10.0)\n",
      "Requirement already satisfied: kiwisolver>=1.0.1 in c:\\users\\xande\\anaconda3\\lib\\site-packages (from matplotlib>=1.3.1->pyswarms) (1.3.1)\n",
      "Requirement already satisfied: six in c:\\users\\xande\\anaconda3\\lib\\site-packages (from cycler>=0.10->matplotlib>=1.3.1->pyswarms) (1.15.0)\n",
      "Installing collected packages: pyswarms\n",
      "Successfully installed pyswarms-1.3.0\n"
     ]
    }
   ],
   "source": [
    "!pip install pyswarms"
   ]
  },
  {
   "cell_type": "markdown",
   "id": "mexican-methodology",
   "metadata": {
    "ExecuteTime": {
     "end_time": "2021-11-09T02:06:33.284204Z",
     "start_time": "2021-11-09T02:06:33.204345Z"
    }
   },
   "source": [
    "## Importando bibliotecas"
   ]
  },
  {
   "cell_type": "code",
   "execution_count": 11,
   "id": "opposite-minister",
   "metadata": {
    "ExecuteTime": {
     "end_time": "2021-11-09T20:16:14.189341Z",
     "start_time": "2021-11-09T20:16:14.107723Z"
    }
   },
   "outputs": [],
   "source": [
    "import numpy as np\n",
    "import pyswarms as ps\n",
    "from pyswarms.single.global_best import GlobalBestPSO"
   ]
  },
  {
   "cell_type": "code",
   "execution_count": 12,
   "id": "surprising-chorus",
   "metadata": {
    "ExecuteTime": {
     "end_time": "2021-11-09T20:16:14.332671Z",
     "start_time": "2021-11-09T20:16:14.323670Z"
    }
   },
   "outputs": [],
   "source": [
    "# Criando a funcao de rosenbrock a ser otimizada\n",
    "def rosenbrock_with_args(x, a, b, c=0):\n",
    "    f = (a - x[:, 0]) ** 2 + b * (x[:, 1] - x[:, 0] ** 2) ** 2 + c\n",
    "    return f"
   ]
  },
  {
   "cell_type": "code",
   "execution_count": 17,
   "id": "mathematical-visibility",
   "metadata": {
    "ExecuteTime": {
     "end_time": "2021-11-09T20:42:24.303356Z",
     "start_time": "2021-11-09T20:42:23.595302Z"
    }
   },
   "outputs": [
    {
     "name": "stderr",
     "output_type": "stream",
     "text": [
      "2021-11-09 17:42:23,602 - pyswarms.single.global_best - INFO - Optimize for 1000 iters with {'c1': 0.5, 'c2': 0.8, 'w': 0.8}\n",
      "pyswarms.single.global_best: 100%|██████████████████████████████████████████████████████████████|1000/1000, best_cost=0\n",
      "2021-11-09 17:42:24,288 - pyswarms.single.global_best - INFO - Optimization finished | best cost: 0.0, best pos: [1. 1.]\n"
     ]
    }
   ],
   "source": [
    "# Inicializando o otimizador\n",
    "x_max = 10 * np.ones(2)\n",
    "x_min = -1 * x_max\n",
    "\n",
    "# Limites\n",
    "bounds = (x_min, x_max)\n",
    "options = {'c1': 0.5, 'c2': 0.8, 'w': 0.8}\n",
    "optimizer = GlobalBestPSO(n_particles=10, dimensions=2, options = options, bounds = bounds)\n",
    "\n",
    "# Otimizando a funcao\n",
    "cost, pos = optimizer.optimize(rosenbrock_with_args, 1000, a=1, b=100, c=0)"
   ]
  }
 ],
 "metadata": {
  "kernelspec": {
   "display_name": "Python 3",
   "language": "python",
   "name": "python3"
  },
  "language_info": {
   "codemirror_mode": {
    "name": "ipython",
    "version": 3
   },
   "file_extension": ".py",
   "mimetype": "text/x-python",
   "name": "python",
   "nbconvert_exporter": "python",
   "pygments_lexer": "ipython3",
   "version": "3.8.5"
  },
  "toc": {
   "base_numbering": 1,
   "nav_menu": {},
   "number_sections": true,
   "sideBar": true,
   "skip_h1_title": false,
   "title_cell": "Table of Contents",
   "title_sidebar": "Contents",
   "toc_cell": false,
   "toc_position": {},
   "toc_section_display": true,
   "toc_window_display": false
  },
  "varInspector": {
   "cols": {
    "lenName": 16,
    "lenType": 16,
    "lenVar": 40
   },
   "kernels_config": {
    "python": {
     "delete_cmd_postfix": "",
     "delete_cmd_prefix": "del ",
     "library": "var_list.py",
     "varRefreshCmd": "print(var_dic_list())"
    },
    "r": {
     "delete_cmd_postfix": ") ",
     "delete_cmd_prefix": "rm(",
     "library": "var_list.r",
     "varRefreshCmd": "cat(var_dic_list()) "
    }
   },
   "types_to_exclude": [
    "module",
    "function",
    "builtin_function_or_method",
    "instance",
    "_Feature"
   ],
   "window_display": false
  }
 },
 "nbformat": 4,
 "nbformat_minor": 5
}
