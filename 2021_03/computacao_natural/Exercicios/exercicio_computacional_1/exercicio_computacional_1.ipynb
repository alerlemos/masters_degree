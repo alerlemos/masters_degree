{
 "cells": [
  {
   "cell_type": "markdown",
   "id": "67679d7c",
   "metadata": {},
   "source": [
    "# Exercicio computacional 1\n",
    "**Alexandre Rosseto Lemos**"
   ]
  },
  {
   "cell_type": "markdown",
   "id": "12c4a70f",
   "metadata": {},
   "source": [
    "## Considerações\n",
    "\n",
    "- Indivíduo: parâmetros _a_, _b_ e _c_\n",
    "\n",
    "- Limites dos parâmetros: [-5, 5]\n",
    "\n",
    "- Polinômio: y = a + bx + cx^2\n",
    "\n",
    "- fitness = soma do erro médio quadrático (SSE)\n",
    "\n",
    "- 10 execuções\n",
    "\n",
    "- Será utilizada a biblioteca scikit-opt (https://pythonrepo.com/repo/guofei9987-scikit-opt-python-sklearn-utilities)"
   ]
  },
  {
   "cell_type": "markdown",
   "id": "cac21524",
   "metadata": {},
   "source": [
    "## Bibliotecas"
   ]
  },
  {
   "cell_type": "code",
   "execution_count": 1,
   "id": "7f193f16",
   "metadata": {
    "ExecuteTime": {
     "end_time": "2021-11-24T20:23:40.649695Z",
     "start_time": "2021-11-24T20:23:38.309574Z"
    }
   },
   "outputs": [
    {
     "name": "stdout",
     "output_type": "stream",
     "text": [
      "Requirement already satisfied: scikit-opt in c:\\users\\xande\\anaconda3\\lib\\site-packages (0.6.5)\n",
      "Requirement already satisfied: scipy in c:\\users\\xande\\anaconda3\\lib\\site-packages (from scikit-opt) (1.5.3)\n",
      "Requirement already satisfied: numpy in c:\\users\\xande\\anaconda3\\lib\\site-packages (from scikit-opt) (1.21.2)\n"
     ]
    }
   ],
   "source": [
    "# Instalando a biblioteca scikit-opt\n",
    "!pip install scikit-opt"
   ]
  },
  {
   "cell_type": "code",
   "execution_count": 2,
   "id": "fb5096b0",
   "metadata": {
    "ExecuteTime": {
     "end_time": "2021-11-24T20:23:41.127691Z",
     "start_time": "2021-11-24T20:23:40.651695Z"
    }
   },
   "outputs": [],
   "source": [
    "import pandas as pd\n",
    "import numpy as np\n",
    "from sko.GA import GA\n",
    "import matplotlib.pyplot as plt"
   ]
  },
  {
   "cell_type": "markdown",
   "id": "5a64d587",
   "metadata": {},
   "source": [
    "## Funções"
   ]
  },
  {
   "cell_type": "code",
   "execution_count": 3,
   "id": "ea42230f",
   "metadata": {
    "ExecuteTime": {
     "end_time": "2021-11-24T20:23:41.143692Z",
     "start_time": "2021-11-24T20:23:41.129692Z"
    }
   },
   "outputs": [],
   "source": [
    "# Funcao polinomial\n",
    "def f_fun(x, a, b, c):\n",
    "    \n",
    "    # Polinomio definido\n",
    "    y_hat = a + b*x + c*(x**2) \n",
    "    \n",
    "    return y_hat\n",
    "\n",
    "\n",
    "# Funcao objetivo\n",
    "def obj_fun(p):\n",
    "    \n",
    "    # Definindo os parametros\n",
    "    a, b, c = p\n",
    "    \n",
    "    # Quantidade de amostras\n",
    "    n = len(df_x)\n",
    "    \n",
    "    # Calcula o sse\n",
    "    sse = (1/n)*(np.square(f_fun(df_x.values, a, b, c) - df_y.values).sum())\n",
    "    \n",
    "    return sse"
   ]
  },
  {
   "cell_type": "markdown",
   "id": "d5723495",
   "metadata": {},
   "source": [
    "## Carregando os dados"
   ]
  },
  {
   "cell_type": "code",
   "execution_count": 4,
   "id": "c7bd5c77",
   "metadata": {
    "ExecuteTime": {
     "end_time": "2021-11-24T20:23:41.175691Z",
     "start_time": "2021-11-24T20:23:41.145694Z"
    }
   },
   "outputs": [
    {
     "data": {
      "text/html": [
       "<div>\n",
       "<style scoped>\n",
       "    .dataframe tbody tr th:only-of-type {\n",
       "        vertical-align: middle;\n",
       "    }\n",
       "\n",
       "    .dataframe tbody tr th {\n",
       "        vertical-align: top;\n",
       "    }\n",
       "\n",
       "    .dataframe thead th {\n",
       "        text-align: right;\n",
       "    }\n",
       "</style>\n",
       "<table border=\"1\" class=\"dataframe\">\n",
       "  <thead>\n",
       "    <tr style=\"text-align: right;\">\n",
       "      <th></th>\n",
       "      <th>X</th>\n",
       "    </tr>\n",
       "  </thead>\n",
       "  <tbody>\n",
       "    <tr>\n",
       "      <th>0</th>\n",
       "      <td>0.00</td>\n",
       "    </tr>\n",
       "    <tr>\n",
       "      <th>1</th>\n",
       "      <td>0.03</td>\n",
       "    </tr>\n",
       "    <tr>\n",
       "      <th>2</th>\n",
       "      <td>0.06</td>\n",
       "    </tr>\n",
       "    <tr>\n",
       "      <th>3</th>\n",
       "      <td>0.09</td>\n",
       "    </tr>\n",
       "    <tr>\n",
       "      <th>4</th>\n",
       "      <td>0.12</td>\n",
       "    </tr>\n",
       "  </tbody>\n",
       "</table>\n",
       "</div>"
      ],
      "text/plain": [
       "      X\n",
       "0  0.00\n",
       "1  0.03\n",
       "2  0.06\n",
       "3  0.09\n",
       "4  0.12"
      ]
     },
     "metadata": {},
     "output_type": "display_data"
    },
    {
     "data": {
      "text/html": [
       "<div>\n",
       "<style scoped>\n",
       "    .dataframe tbody tr th:only-of-type {\n",
       "        vertical-align: middle;\n",
       "    }\n",
       "\n",
       "    .dataframe tbody tr th {\n",
       "        vertical-align: top;\n",
       "    }\n",
       "\n",
       "    .dataframe thead th {\n",
       "        text-align: right;\n",
       "    }\n",
       "</style>\n",
       "<table border=\"1\" class=\"dataframe\">\n",
       "  <thead>\n",
       "    <tr style=\"text-align: right;\">\n",
       "      <th></th>\n",
       "      <th>Y</th>\n",
       "    </tr>\n",
       "  </thead>\n",
       "  <tbody>\n",
       "    <tr>\n",
       "      <th>0</th>\n",
       "      <td>0.4981</td>\n",
       "    </tr>\n",
       "    <tr>\n",
       "      <th>1</th>\n",
       "      <td>0.5285</td>\n",
       "    </tr>\n",
       "    <tr>\n",
       "      <th>2</th>\n",
       "      <td>0.5584</td>\n",
       "    </tr>\n",
       "    <tr>\n",
       "      <th>3</th>\n",
       "      <td>0.5878</td>\n",
       "    </tr>\n",
       "    <tr>\n",
       "      <th>4</th>\n",
       "      <td>0.6166</td>\n",
       "    </tr>\n",
       "  </tbody>\n",
       "</table>\n",
       "</div>"
      ],
      "text/plain": [
       "        Y\n",
       "0  0.4981\n",
       "1  0.5285\n",
       "2  0.5584\n",
       "3  0.5878\n",
       "4  0.6166"
      ]
     },
     "metadata": {},
     "output_type": "display_data"
    }
   ],
   "source": [
    "df_x = pd.read_csv('x_data.txt', names = ['X'])\n",
    "df_y = pd.read_csv('y_data.txt', names = ['Y'])\n",
    "\n",
    "# Previa dos dados\n",
    "display(df_x.head(), df_y.head())"
   ]
  },
  {
   "cell_type": "code",
   "execution_count": 5,
   "id": "d3d7954d",
   "metadata": {
    "ExecuteTime": {
     "end_time": "2021-11-24T20:23:41.286690Z",
     "start_time": "2021-11-24T20:23:41.177693Z"
    }
   },
   "outputs": [
    {
     "data": {
      "image/png": "[encoded data removed]",
      "text/plain": [
       "<Figure size 432x288 with 1 Axes>"
      ]
     },
     "metadata": {
      "needs_background": "light"
     },
     "output_type": "display_data"
    }
   ],
   "source": [
    "# Plot da curva original (conforme os dados nos arquivos txt)\n",
    "plt.plot(df_x.values, df_y.values, 'o');\n",
    "plt.title('Curva original');"
   ]
  },
  {
   "cell_type": "markdown",
   "id": "34d1ad9b",
   "metadata": {},
   "source": [
    "## Algoritmo genético"
   ]
  },
  {
   "cell_type": "markdown",
   "id": "dfa92c6b",
   "metadata": {},
   "source": [
    "### Análise do tamanho da populacao"
   ]
  },
  {
   "cell_type": "code",
   "execution_count": 17,
   "id": "fe57de44",
   "metadata": {
    "ExecuteTime": {
     "end_time": "2021-11-24T20:38:15.877064Z",
     "start_time": "2021-11-24T20:38:13.690117Z"
    }
   },
   "outputs": [],
   "source": [
    "size_list = [100, 200, 300, 400, 500, 1000, 2000, 5000]\n",
    "\n",
    "list_results = []\n",
    "for size_p in size_list:\n",
    "    ga = GA(func = obj_fun, n_dim = 3, size_pop = size_p,\n",
    "        lb = [-5, -5, -5], ub = [5, 5, 5])\n",
    "    \n",
    "    # Resultados obtidos\n",
    "    best_params, best_sse = ga.run(10)\n",
    "    \n",
    "    # Salvando o resultado\n",
    "    list_results.append((size_p,best_sse[0]))"
   ]
  },
  {
   "cell_type": "code",
   "execution_count": 18,
   "id": "fbe560cd",
   "metadata": {
    "ExecuteTime": {
     "end_time": "2021-11-24T20:38:15.925067Z",
     "start_time": "2021-11-24T20:38:15.911066Z"
    }
   },
   "outputs": [
    {
     "data": {
      "text/html": [
       "<div>\n",
       "<style scoped>\n",
       "    .dataframe tbody tr th:only-of-type {\n",
       "        vertical-align: middle;\n",
       "    }\n",
       "\n",
       "    .dataframe tbody tr th {\n",
       "        vertical-align: top;\n",
       "    }\n",
       "\n",
       "    .dataframe thead th {\n",
       "        text-align: right;\n",
       "    }\n",
       "</style>\n",
       "<table border=\"1\" class=\"dataframe\">\n",
       "  <thead>\n",
       "    <tr style=\"text-align: right;\">\n",
       "      <th></th>\n",
       "      <th>SSE</th>\n",
       "    </tr>\n",
       "    <tr>\n",
       "      <th>Pop</th>\n",
       "      <th></th>\n",
       "    </tr>\n",
       "  </thead>\n",
       "  <tbody>\n",
       "    <tr>\n",
       "      <th>100</th>\n",
       "      <td>0.024440</td>\n",
       "    </tr>\n",
       "    <tr>\n",
       "      <th>200</th>\n",
       "      <td>0.012893</td>\n",
       "    </tr>\n",
       "    <tr>\n",
       "      <th>300</th>\n",
       "      <td>0.072998</td>\n",
       "    </tr>\n",
       "    <tr>\n",
       "      <th>400</th>\n",
       "      <td>0.031950</td>\n",
       "    </tr>\n",
       "    <tr>\n",
       "      <th>500</th>\n",
       "      <td>0.016861</td>\n",
       "    </tr>\n",
       "    <tr>\n",
       "      <th>1000</th>\n",
       "      <td>0.001285</td>\n",
       "    </tr>\n",
       "    <tr>\n",
       "      <th>2000</th>\n",
       "      <td>0.003538</td>\n",
       "    </tr>\n",
       "    <tr>\n",
       "      <th>5000</th>\n",
       "      <td>0.001914</td>\n",
       "    </tr>\n",
       "  </tbody>\n",
       "</table>\n",
       "</div>"
      ],
      "text/plain": [
       "           SSE\n",
       "Pop           \n",
       "100   0.024440\n",
       "200   0.012893\n",
       "300   0.072998\n",
       "400   0.031950\n",
       "500   0.016861\n",
       "1000  0.001285\n",
       "2000  0.003538\n",
       "5000  0.001914"
      ]
     },
     "execution_count": 18,
     "metadata": {},
     "output_type": "execute_result"
    }
   ],
   "source": [
    "df_pop_size_res = pd.DataFrame(list_results, columns = ['Pop', 'SSE']).set_index('Pop')\n",
    "df_pop_size_res"
   ]
  },
  {
   "cell_type": "markdown",
   "id": "b7f1dd58",
   "metadata": {},
   "source": [
    "**O melhor resultado (menor SSE) foi obtido quando size_pop = 1000**"
   ]
  },
  {
   "cell_type": "markdown",
   "id": "39b49f94",
   "metadata": {},
   "source": [
    "### Obtendo os resultados"
   ]
  },
  {
   "cell_type": "code",
   "execution_count": 22,
   "id": "9eaac846",
   "metadata": {
    "ExecuteTime": {
     "end_time": "2021-11-24T20:39:44.907868Z",
     "start_time": "2021-11-24T20:39:44.820870Z"
    }
   },
   "outputs": [
    {
     "name": "stdout",
     "output_type": "stream",
     "text": [
      "Resultados Obtidos\n"
     ]
    },
    {
     "data": {
      "text/html": [
       "<div>\n",
       "<style scoped>\n",
       "    .dataframe tbody tr th:only-of-type {\n",
       "        vertical-align: middle;\n",
       "    }\n",
       "\n",
       "    .dataframe tbody tr th {\n",
       "        vertical-align: top;\n",
       "    }\n",
       "\n",
       "    .dataframe thead th {\n",
       "        text-align: right;\n",
       "    }\n",
       "</style>\n",
       "<table border=\"1\" class=\"dataframe\">\n",
       "  <thead>\n",
       "    <tr style=\"text-align: right;\">\n",
       "      <th></th>\n",
       "      <th>SSE</th>\n",
       "      <th>Parametros</th>\n",
       "    </tr>\n",
       "  </thead>\n",
       "  <tbody>\n",
       "    <tr>\n",
       "      <th>0</th>\n",
       "      <td>0.259811</td>\n",
       "      <td>[-0.9377904678716549, 3.224202753783782, -0.96...</td>\n",
       "    </tr>\n",
       "    <tr>\n",
       "      <th>1</th>\n",
       "      <td>0.852813</td>\n",
       "      <td>[-1.1707700503674898, 2.86710573633839, -0.577...</td>\n",
       "    </tr>\n",
       "    <tr>\n",
       "      <th>2</th>\n",
       "      <td>0.023806</td>\n",
       "      <td>[0.5647768494842706, 0.8382980960480726, -0.19...</td>\n",
       "    </tr>\n",
       "    <tr>\n",
       "      <th>3</th>\n",
       "      <td>1.305149</td>\n",
       "      <td>[-1.2120099083483957, 3.9354215483026316, -0.9...</td>\n",
       "    </tr>\n",
       "    <tr>\n",
       "      <th>4</th>\n",
       "      <td>0.860542</td>\n",
       "      <td>[0.8058975324474096, -1.308798166429983, 0.519...</td>\n",
       "    </tr>\n",
       "    <tr>\n",
       "      <th>5</th>\n",
       "      <td>0.729270</td>\n",
       "      <td>[-1.7784633992497878, 3.377180459925386, -0.90...</td>\n",
       "    </tr>\n",
       "    <tr>\n",
       "      <th>6</th>\n",
       "      <td>0.089484</td>\n",
       "      <td>[0.3443278025413141, 0.7628806364750904, -0.10...</td>\n",
       "    </tr>\n",
       "    <tr>\n",
       "      <th>7</th>\n",
       "      <td>0.394949</td>\n",
       "      <td>[0.7044015504747749, 2.112527170125597, -0.832...</td>\n",
       "    </tr>\n",
       "    <tr>\n",
       "      <th>8</th>\n",
       "      <td>0.035778</td>\n",
       "      <td>[0.8485179830232115, 0.22592257876636523, -0.0...</td>\n",
       "    </tr>\n",
       "    <tr>\n",
       "      <th>9</th>\n",
       "      <td>0.131389</td>\n",
       "      <td>[-0.03395397241379339, 1.0572202209921198, -0....</td>\n",
       "    </tr>\n",
       "  </tbody>\n",
       "</table>\n",
       "</div>"
      ],
      "text/plain": [
       "        SSE                                         Parametros\n",
       "0  0.259811  [-0.9377904678716549, 3.224202753783782, -0.96...\n",
       "1  0.852813  [-1.1707700503674898, 2.86710573633839, -0.577...\n",
       "2  0.023806  [0.5647768494842706, 0.8382980960480726, -0.19...\n",
       "3  1.305149  [-1.2120099083483957, 3.9354215483026316, -0.9...\n",
       "4  0.860542  [0.8058975324474096, -1.308798166429983, 0.519...\n",
       "5  0.729270  [-1.7784633992497878, 3.377180459925386, -0.90...\n",
       "6  0.089484  [0.3443278025413141, 0.7628806364750904, -0.10...\n",
       "7  0.394949  [0.7044015504747749, 2.112527170125597, -0.832...\n",
       "8  0.035778  [0.8485179830232115, 0.22592257876636523, -0.0...\n",
       "9  0.131389  [-0.03395397241379339, 1.0572202209921198, -0...."
      ]
     },
     "metadata": {},
     "output_type": "display_data"
    },
    {
     "name": "stdout",
     "output_type": "stream",
     "text": [
      "----------\n",
      "Média SSE: 0.46829912680973884\n",
      "Melhor SSE: 0.023805648552450064\n",
      "\n",
      "Melhores parametros:\n",
      "a = 0.5647768494842706\n",
      "b = 0.8382980960480726\n",
      "c = -0.19360948498256114\n"
     ]
    }
   ],
   "source": [
    "# Executando o algoritmo 10x e salvando os resultados\n",
    "results = []\n",
    "for i in range(10):\n",
    "    ga = GA(func = obj_fun, n_dim = 3, size_pop = 300,\n",
    "        lb = [-5, -5, -5], ub = [5, 5, 5])\n",
    "    \n",
    "    # Resultados obtidos\n",
    "    best_params, best_sse = ga.run(1)\n",
    "    \n",
    "    # Salvando o resultado\n",
    "    results.append((best_sse[0], best_params))\n",
    "    \n",
    "# Obtendo a média dos resultados\n",
    "sse_all = [sse for sse,par in results]\n",
    "sse_med = sum(sse_all)/len(sse_all)\n",
    "\n",
    "# Salvando os resultados em um dataframe\n",
    "df_res = pd.DataFrame(results, columns = ['SSE', 'Parametros'])\n",
    "\n",
    "# Obtendo os melhores parâmetros\n",
    "best = df_res[df_res['SSE'] == df_res['SSE'].min()]\n",
    "\n",
    "# Melhor SSE\n",
    "best_sse_all = best['SSE'].values[0]\n",
    "\n",
    "# Parametros\n",
    "a = best['Parametros'].values[0][0]\n",
    "b = best['Parametros'].values[0][1]\n",
    "c = best['Parametros'].values[0][2]\n",
    "\n",
    "print('Resultados Obtidos')\n",
    "display(df_res)\n",
    "\n",
    "print('----------')\n",
    "print(f'Média SSE: {sse_med}')\n",
    "print(f'Melhor SSE: {best_sse_all}\\n\\nMelhores parametros:')\n",
    "print(f'a = {a}\\nb = {b}\\nc = {c}')"
   ]
  },
  {
   "cell_type": "markdown",
   "id": "alive-semiconductor",
   "metadata": {},
   "source": [
    "### Comparação dos gráficos"
   ]
  },
  {
   "cell_type": "code",
   "execution_count": 24,
   "id": "8959f833",
   "metadata": {
    "ExecuteTime": {
     "end_time": "2021-11-24T20:40:51.385850Z",
     "start_time": "2021-11-24T20:40:51.276851Z"
    }
   },
   "outputs": [
    {
     "data": {
      "image/png": "[encoded data removed]",
      "text/plain": [
       "<Figure size 432x288 with 1 Axes>"
      ]
     },
     "metadata": {
      "needs_background": "light"
     },
     "output_type": "display_data"
    }
   ],
   "source": [
    "best_params = [a,b,c]\n",
    "\n",
    "# Gerando gráfico\n",
    "y_predict = f_fun(df_x.values, *best_params)\n",
    "\n",
    "fig, ax = plt.subplots()\n",
    "\n",
    "ax.plot(df_x.values, df_y.values, '-')\n",
    "ax.plot(df_x.values, y_predict, '-')\n",
    "ax.legend(['Curva Original', 'Curva com AG'])\n",
    "plt.show()"
   ]
  },
  {
   "cell_type": "code",
   "execution_count": null,
   "id": "attended-chassis",
   "metadata": {},
   "outputs": [],
   "source": []
  }
 ],
 "metadata": {
  "kernelspec": {
   "display_name": "Python 3",
   "language": "python",
   "name": "python3"
  },
  "language_info": {
   "codemirror_mode": {
    "name": "ipython",
    "version": 3
   },
   "file_extension": ".py",
   "mimetype": "text/x-python",
   "name": "python",
   "nbconvert_exporter": "python",
   "pygments_lexer": "ipython3",
   "version": "3.8.5"
  },
  "toc": {
   "base_numbering": 1,
   "nav_menu": {},
   "number_sections": true,
   "sideBar": true,
   "skip_h1_title": false,
   "title_cell": "Table of Contents",
   "title_sidebar": "Contents",
   "toc_cell": false,
   "toc_position": {},
   "toc_section_display": true,
   "toc_window_display": true
  },
  "varInspector": {
   "cols": {
    "lenName": 16,
    "lenType": 16,
    "lenVar": 40
   },
   "kernels_config": {
    "python": {
     "delete_cmd_postfix": "",
     "delete_cmd_prefix": "del ",
     "library": "var_list.py",
     "varRefreshCmd": "print(var_dic_list())"
    },
    "r": {
     "delete_cmd_postfix": ") ",
     "delete_cmd_prefix": "rm(",
     "library": "var_list.r",
     "varRefreshCmd": "cat(var_dic_list()) "
    }
   },
   "types_to_exclude": [
    "module",
    "function",
    "builtin_function_or_method",
    "instance",
    "_Feature"
   ],
   "window_display": false
  }
 },
 "nbformat": 4,
 "nbformat_minor": 5
}
